{
  "nbformat": 4,
  "nbformat_minor": 0,
  "metadata": {
    "colab": {
      "provenance": [],
      "toc_visible": true,
      "authorship_tag": "ABX9TyM6nb6NrCTfKa9RLHK/Mm1y",
      "include_colab_link": true
    },
    "kernelspec": {
      "name": "python3",
      "display_name": "Python 3"
    },
    "language_info": {
      "name": "python"
    }
  },
  "cells": [
    {
      "cell_type": "markdown",
      "metadata": {
        "id": "view-in-github",
        "colab_type": "text"
      },
      "source": [
        "<a href=\"https://colab.research.google.com/github/datasciapps/trifels2025/blob/master/binn.ipynb\" target=\"_parent\"><img src=\"https://colab.research.google.com/assets/colab-badge.svg\" alt=\"Open In Colab\"/></a>"
      ]
    },
    {
      "cell_type": "markdown",
      "source": [
        "# Knowledge-enhanced biomarker discovery workshop\n",
        "\n",
        "a.k.a. Embedding prior knowledge into multi-omics integration.\n",
        "\n",
        "[**AI in Bioinformatics Spring School**](https://trifels2025.kl.dfki.de/)  \n",
        "_Annweiler-am-Triefels, Rhineland-Palatinate, Germany, March 2025_\n",
        "\n",
        "## Learning outcomes\n",
        "\n",
        "1. Compare approaches for integrating biological knowledge into biomarker discovery\n",
        "2. Design and critique deep learning architectures for multi-omics tasks\n",
        "3. Get hands-on experience with 'BINN'/'VNN' frameworks and identify practical challenges\n",
        "\n",
        "## Resources\n",
        "\n",
        "1. _This_ Colab notebook ([link](https://colab.research.google.com/drive/1pqFEGiqWA0Ku6SovHSDUoLCE3uVKgGlm?usp=sharing))\n",
        "2. Open-source software packages --- *see Table, below*\n",
        "3. Cancer Genome Atlas data --- <https://www.cbioportal.org>\n",
        "4. Workshop slides [ADD LINK]\n",
        "\n",
        "There are a handful for tools for fitting biologically-informed neural networks in Python. Most are designed for single-omic inputs.\n",
        "\n",
        "Package    | Reference     | Learning task | Modality | Input data type\n",
        "-----------|------------|---------------|------------|------------\n",
        "[BINN](https://infectionmedicineproteomics.github.io/BINN)       | Hartman et al ([2023](https://www.nature.com/articles/s41467-023-41146-4)) | supervised    | single-omic | proteomics\n",
        "[VEGA](https://github.com/LucasESBS/vega/tree/main)       | Seninge et al ([2021](https://www.nature.com/articles/s41467-021-26017-0))   | unsupervised  | single-omic | transcriptomics\n",
        "[GenNet](https://github.com/arnovanhilten/GenNet)     | van Hilten et al ([2021](https://www.nature.com/articles/s42003-021-02622-z)) | supervised    | single-omic | genomics\n",
        "[GenNet-multi-omic](https://github.com/ArnovanHilten/GenNet-multi-omic) | van Hilten et al ([2024](https://www.nature.com/articles/s41540-024-00405-w)) | supervised | multi-omics | transcriptomics & epigenomics\n",
        "\n"
      ],
      "metadata": {
        "id": "Q3Ska_1TLboi"
      }
    },
    {
      "cell_type": "markdown",
      "source": [
        "# Practical task"
      ],
      "metadata": {
        "id": "LEyg0Sc8I19r"
      }
    },
    {
      "cell_type": "markdown",
      "source": [
        "In this worksheet, the goal is to compare and contrast different methods for multi-omics integration to predict survival of patients with cancer.\n",
        "We consider the effect of embedding of prior knowledge on the model and its outputs."
      ],
      "metadata": {
        "id": "HakJ6RHhErPX"
      }
    },
    {
      "cell_type": "markdown",
      "source": [
        "## Download and wrangle omics data from the Cancer Genome Atlas (TCGA)\n",
        "\n",
        "I've done this so you don't have to.\n",
        "We download data from [cBioPortal](https://www.cbioportal.org/datasets).\n",
        "The scripts below will bring it directly into the Colab working directory, so you don't have to worry about saving big files onto your laptop, or bringing the internet in Annweiler-am-Triefels to a stuttering halt.\n",
        "\n",
        "This might take a minute or so:"
      ],
      "metadata": {
        "id": "iuyPJy6PTWpq"
      }
    },
    {
      "cell_type": "code",
      "source": [
        "study_id = \"prad_tcga_pan_can_atlas_2018\"                               # Prostate cancer cohort\n",
        "!wget -nc https://cbioportal-datahub.s3.amazonaws.com/{study_id}.tar.gz # Download to Colab\n",
        "!tar -xzf {study_id}.tar.gz                                             # Unzip archive\n",
        "%ls {study_id}                                                          # Show files"
      ],
      "metadata": {
        "colab": {
          "base_uri": "https://localhost:8080/"
        },
        "id": "YNjflVJpM7h9",
        "outputId": "d8a704ab-d91a-40ef-f955-db202cafbeed"
      },
      "execution_count": null,
      "outputs": [
        {
          "output_type": "stream",
          "name": "stdout",
          "text": [
            "File ‘prad_tcga_pan_can_atlas_2018.tar.gz’ already there; not retrieving.\n",
            "\n",
            "\u001b[0m\u001b[01;34mcase_lists\u001b[0m/\n",
            "data_armlevel_cna.txt\n",
            "data_clinical_patient.txt\n",
            "data_clinical_sample.txt\n",
            "data_clinical_supp_hypoxia.txt\n",
            "data_cna_hg19.seg\n",
            "data_cna.txt\n",
            "\u001b[01;32mdata_gene_panel_matrix.txt\u001b[0m*\n",
            "data_genetic_ancestry.txt\n",
            "data_log2_cna.txt\n",
            "data_methylation_hm27_hm450_merged.txt\n",
            "data_mrna_seq_v2_rsem.txt\n",
            "data_mrna_seq_v2_rsem_zscores_ref_all_samples.txt\n",
            "data_mrna_seq_v2_rsem_zscores_ref_diploid_samples.txt\n",
            "data_mrna_seq_v2_rsem_zscores_ref_normal_samples.txt\n",
            "data_mutations.txt\n",
            "data_resource_definition.txt\n",
            "data_resource_patient.txt\n",
            "data_rppa.txt\n",
            "data_rppa_zscores.txt\n",
            "data_sv.txt\n",
            "data_timeline_sample_acquisition.txt\n",
            "data_timeline_status.txt\n",
            "data_timeline_treatment.txt\n",
            "LICENSE\n",
            "meta_armlevel_cna.txt\n",
            "meta_clinical_patient.txt\n",
            "meta_clinical_sample.txt\n",
            "meta_cna_hg19_seg.txt\n",
            "meta_cna.txt\n",
            "\u001b[01;32mmeta_gene_panel_matrix.txt\u001b[0m*\n",
            "meta_genetic_ancestry.txt\n",
            "meta_log2_cna.txt\n",
            "meta_methylation_hm27_hm450_merged.txt\n",
            "meta_mrna_seq_v2_rsem.txt\n",
            "meta_mrna_seq_v2_rsem_zscores_ref_all_samples.txt\n",
            "meta_mrna_seq_v2_rsem_zscores_ref_diploid_samples.txt\n",
            "meta_mrna_seq_v2_rsem_zscores_ref_normal_samples.txt\n",
            "meta_mutations.txt\n",
            "meta_resource_definition.txt\n",
            "meta_resource_patient.txt\n",
            "meta_rppa.txt\n",
            "meta_rppa_zscores.txt\n",
            "meta_study.txt\n",
            "\u001b[01;32mmeta_sv.txt\u001b[0m*\n",
            "meta_timeline_sample_acquisition.txt\n",
            "meta_timeline_status.txt\n",
            "meta_timeline_treatment.txt\n",
            "\u001b[01;34mnormals\u001b[0m/\n",
            "README.md\n"
          ]
        }
      ]
    },
    {
      "cell_type": "markdown",
      "source": [
        "You can have a peek at some of the raw data in the folder using shell commands."
      ],
      "metadata": {
        "id": "muYVr56-JVr6"
      }
    },
    {
      "cell_type": "code",
      "source": [
        "%cat {study_id}/README.md                                               # (Optional) browse the documentation"
      ],
      "metadata": {
        "colab": {
          "base_uri": "https://localhost:8080/"
        },
        "id": "P30XBP-k2_Y_",
        "outputId": "19f5df8d-32fa-4130-d5fd-6cdb5ab5b06f"
      },
      "execution_count": null,
      "outputs": [
        {
          "output_type": "stream",
          "name": "stdout",
          "text": [
            "## Improving PanCancer Atlas Data: (transformation steps for the new data types being added)\n",
            "\n",
            "### The Timeline/Treatment data:\n",
            "\n",
            "**Data Source**\n",
            "- GDAC Firehose: https://gdac.broadinstitute.org/\n",
            "- File Used: `Merge_Clinical.Level_1.20160128` (clin.merged.txt) for each cancer type.\n",
            "\n",
            "**Data Transformation** \n",
            "- The detailed transformation steps are listed in the Pull Request [here](https://github.com/cBioPortal/datahub/pull/1597)\n",
            "\n",
            "### The Genetic Ancestry data:\n",
            "\n",
            "\n",
            "**Data Source**\n",
            "- GDAC Firehose: https://gdc.cancer.gov/about-data/publications/CCG-AIM-2020\n",
            "- File Used: `Admixture_by_sample.txt` (Admix percent by sample) for each cancer type.\n",
            "\n",
            "\n",
            "### The Methylation data:\n",
            "\n",
            "**Data Source**\n",
            "- GDAC Firehose: https://gdc.cancer.gov/node/977\n",
            "- File Used: `jhu-usc.edu_PANCAN_HumanMethylation450.betaValue_whitelisted.tsv` (DNA methylation 450K only beta value data matrix) for each cancer type.\n",
            "\n",
            "**Data Transformation** \n",
            " - The detailed transformation steps are listed in the Pull Request [here](https://github.com/cBioPortal/datahub/pull/1597)\n",
            " - The meta info for the Infinium Illumina 450k probes used for this profile is under the folder \"probe_meta\" \"probe_450k_mapinfo_PQ.txt\" is the original download from Illumina.\n",
            "\n",
            "### Tumor Break Load (TBL):\n",
            "\n",
            "**Data Source**\n",
            " - TBL scores based on Lakbir et al., 2024 (Manuscript in progress)\n",
            " - Overview of TBL calculation for TCGA, from [Lakbir et al., Eur J Cancer 2024](https://pubmed.ncbi.nlm.nih.gov/36334560/)\n",
            " - Data is provided as a sample-level clinical attribute labeled `Tumor Break Load`\n"
          ]
        }
      ]
    },
    {
      "cell_type": "code",
      "source": [
        "!head -n6 {study_id}/data_mrna_seq_v2_rsem_zscores_ref_all_samples.txt  # (Optional) peek at the RNAseq data"
      ],
      "metadata": {
        "colab": {
          "base_uri": "https://localhost:8080/"
        },
        "id": "3CwkzxGv3AmQ",
        "outputId": "8509ee4e-1bd0-466b-f5e7-4e8d5e8e6f77"
      },
      "execution_count": null,
      "outputs": [
        {
          "output_type": "stream",
          "name": "stdout",
          "text": [
            "Hugo_Symbol\tEntrez_Gene_Id\tTCGA-2A-A8VL-01\tTCGA-2A-A8VO-01\tTCGA-2A-A8VT-01\tTCGA-2A-A8VV-01\tTCGA-2A-A8VX-01\tTCGA-2A-A8W1-01\tTCGA-2A-A8W3-01\tTCGA-2A-AAYF-01\tTCGA-2A-AAYO-01\tTCGA-2A-AAYU-01\tTCGA-4L-AA1F-01\tTCGA-CH-5737-01\tTCGA-CH-5738-01\tTCGA-CH-5739-01\tTCGA-CH-5740-01\tTCGA-CH-5741-01\tTCGA-CH-5743-01\tTCGA-CH-5744-01\tTCGA-CH-5745-01\tTCGA-CH-5746-01\tTCGA-CH-5748-01\tTCGA-CH-5750-01\tTCGA-CH-5751-01\tTCGA-CH-5752-01\tTCGA-CH-5753-01\tTCGA-CH-5754-01\tTCGA-CH-5761-01\tTCGA-CH-5762-01\tTCGA-CH-5763-01\tTCGA-CH-5764-01\tTCGA-CH-5765-01\tTCGA-CH-5766-01\tTCGA-CH-5767-01\tTCGA-CH-5768-01\tTCGA-CH-5769-01\tTCGA-CH-5771-01\tTCGA-CH-5772-01\tTCGA-CH-5788-01\tTCGA-CH-5789-01\tTCGA-CH-5790-01\tTCGA-CH-5791-01\tTCGA-CH-5792-01\tTCGA-CH-5794-01\tTCGA-EJ-5494-01\tTCGA-EJ-5495-01\tTCGA-EJ-5496-01\tTCGA-EJ-5497-01\tTCGA-EJ-5498-01\tTCGA-EJ-5499-01\tTCGA-EJ-5501-01\tTCGA-EJ-5502-01\tTCGA-EJ-5503-01\tTCGA-EJ-5504-01\tTCGA-EJ-5505-01\tTCGA-EJ-5506-01\tTCGA-EJ-5507-01\tTCGA-EJ-5508-01\tTCGA-EJ-5509-01\tTCGA-EJ-5510-01\tTCGA-EJ-5511-01\tTCGA-EJ-5512-01\tTCGA-EJ-5514-01\tTCGA-EJ-5515-01\tTCGA-EJ-5516-01\tTCGA-EJ-5517-01\tTCGA-EJ-5518-01\tTCGA-EJ-5519-01\tTCGA-EJ-5521-01\tTCGA-EJ-5522-01\tTCGA-EJ-5524-01\tTCGA-EJ-5525-01\tTCGA-EJ-5526-01\tTCGA-EJ-5527-01\tTCGA-EJ-5530-01\tTCGA-EJ-5531-01\tTCGA-EJ-5532-01\tTCGA-EJ-5542-01\tTCGA-EJ-7115-01\tTCGA-EJ-7123-01\tTCGA-EJ-7125-01\tTCGA-EJ-7218-01\tTCGA-EJ-7314-01\tTCGA-EJ-7315-01\tTCGA-EJ-7317-01\tTCGA-EJ-7318-01\tTCGA-EJ-7321-01\tTCGA-EJ-7325-01\tTCGA-EJ-7327-01\tTCGA-EJ-7328-01\tTCGA-EJ-7330-01\tTCGA-EJ-7331-01\tTCGA-EJ-7781-01\tTCGA-EJ-7782-01\tTCGA-EJ-7783-01\tTCGA-EJ-7784-01\tTCGA-EJ-7785-01\tTCGA-EJ-7786-01\tTCGA-EJ-7788-01\tTCGA-EJ-7789-01\tTCGA-EJ-7791-01\tTCGA-EJ-7792-01\tTCGA-EJ-7793-01\tTCGA-EJ-7794-01\tTCGA-EJ-7797-01\tTCGA-EJ-8468-01\tTCGA-EJ-8469-01\tTCGA-EJ-8470-01\tTCGA-EJ-8472-01\tTCGA-EJ-8474-01\tTCGA-EJ-A46B-01\tTCGA-EJ-A46D-01\tTCGA-EJ-A46E-01\tTCGA-EJ-A46F-01\tTCGA-EJ-A46G-01\tTCGA-EJ-A46H-01\tTCGA-EJ-A46I-01\tTCGA-EJ-A65E-01\tTCGA-EJ-A65F-01\tTCGA-EJ-A65G-01\tTCGA-EJ-A65J-01\tTCGA-EJ-A65M-01\tTCGA-EJ-A6RA-01\tTCGA-EJ-A6RC-01\tTCGA-EJ-A7NF-01\tTCGA-EJ-A7NG-01\tTCGA-EJ-A7NH-01\tTCGA-EJ-A7NJ-01\tTCGA-EJ-A7NK-01\tTCGA-EJ-A7NM-01\tTCGA-EJ-A7NN-01\tTCGA-EJ-A8FN-01\tTCGA-EJ-A8FO-01\tTCGA-EJ-A8FP-01\tTCGA-EJ-A8FS-01\tTCGA-EJ-A8FU-01\tTCGA-EJ-AB20-01\tTCGA-EJ-AB27-01\tTCGA-FC-7708-01\tTCGA-FC-7961-01\tTCGA-FC-A4JI-01\tTCGA-FC-A5OB-01\tTCGA-FC-A8O0-01\tTCGA-G9-6329-01\tTCGA-G9-6332-01\tTCGA-G9-6333-01\tTCGA-G9-6336-01\tTCGA-G9-6338-01\tTCGA-G9-6339-01\tTCGA-G9-6342-01\tTCGA-G9-6343-01\tTCGA-G9-6348-01\tTCGA-G9-6351-01\tTCGA-G9-6353-01\tTCGA-G9-6354-01\tTCGA-G9-6356-01\tTCGA-G9-6361-01\tTCGA-G9-6362-01\tTCGA-G9-6363-01\tTCGA-G9-6364-01\tTCGA-G9-6365-01\tTCGA-G9-6366-01\tTCGA-G9-6367-01\tTCGA-G9-6369-01\tTCGA-G9-6370-01\tTCGA-G9-6371-01\tTCGA-G9-6373-01\tTCGA-G9-6377-01\tTCGA-G9-6378-01\tTCGA-G9-6384-01\tTCGA-G9-6385-01\tTCGA-G9-6494-01\tTCGA-G9-6496-01\tTCGA-G9-6498-01\tTCGA-G9-6499-01\tTCGA-G9-7509-01\tTCGA-G9-7510-01\tTCGA-G9-7519-01\tTCGA-G9-7521-01\tTCGA-G9-7522-01\tTCGA-G9-7523-01\tTCGA-G9-7525-01\tTCGA-G9-A9S0-01\tTCGA-G9-A9S7-01\tTCGA-H9-7775-01\tTCGA-H9-A6BX-01\tTCGA-HC-7075-01\tTCGA-HC-7077-01\tTCGA-HC-7078-01\tTCGA-HC-7079-01\tTCGA-HC-7080-01\tTCGA-HC-7081-01\tTCGA-HC-7209-01\tTCGA-HC-7210-01\tTCGA-HC-7211-01\tTCGA-HC-7212-01\tTCGA-HC-7213-01\tTCGA-HC-7230-01\tTCGA-HC-7231-01\tTCGA-HC-7232-01\tTCGA-HC-7233-01\tTCGA-HC-7736-01\tTCGA-HC-7737-01\tTCGA-HC-7738-01\tTCGA-HC-7740-01\tTCGA-HC-7742-01\tTCGA-HC-7744-01\tTCGA-HC-7745-01\tTCGA-HC-7747-01\tTCGA-HC-7748-01\tTCGA-HC-7749-01\tTCGA-HC-7750-01\tTCGA-HC-7752-01\tTCGA-HC-7817-01\tTCGA-HC-7818-01\tTCGA-HC-7819-01\tTCGA-HC-7820-01\tTCGA-HC-7821-01\tTCGA-HC-8213-01\tTCGA-HC-8216-01\tTCGA-HC-8256-01\tTCGA-HC-8257-01\tTCGA-HC-8258-01\tTCGA-HC-8259-01\tTCGA-HC-8260-01\tTCGA-HC-8261-01\tTCGA-HC-8262-01\tTCGA-HC-8264-01\tTCGA-HC-8265-01\tTCGA-HC-8266-01\tTCGA-HC-A48F-01\tTCGA-HC-A4ZV-01\tTCGA-HC-A631-01\tTCGA-HC-A632-01\tTCGA-HC-A76W-01\tTCGA-HC-A76X-01\tTCGA-HC-A8CY-01\tTCGA-HC-A8D0-01\tTCGA-HC-A8D1-01\tTCGA-HC-A9TE-01\tTCGA-HC-A9TH-01\tTCGA-HI-7168-01\tTCGA-HI-7169-01\tTCGA-HI-7170-01\tTCGA-HI-7171-01\tTCGA-J4-8198-01\tTCGA-J4-8200-01\tTCGA-J4-A67T-01\tTCGA-J4-A6G1-01\tTCGA-J4-A6G3-01\tTCGA-J4-A83I-01\tTCGA-J4-A83J-01\tTCGA-J4-A83K-01\tTCGA-J4-A83L-01\tTCGA-J4-A83M-01\tTCGA-J4-A83N-01\tTCGA-J4-AATV-01\tTCGA-J4-AATZ-01\tTCGA-J4-AAU2-01\tTCGA-J9-A52B-01\tTCGA-J9-A52C-01\tTCGA-J9-A52D-01\tTCGA-J9-A52E-01\tTCGA-J9-A8CK-01\tTCGA-J9-A8CL-01\tTCGA-J9-A8CM-01\tTCGA-J9-A8CN-01\tTCGA-J9-A8CP-01\tTCGA-KC-A4BL-01\tTCGA-KC-A4BN-01\tTCGA-KC-A4BR-01\tTCGA-KC-A4BV-01\tTCGA-KC-A7F3-01\tTCGA-KC-A7F5-01\tTCGA-KC-A7F6-01\tTCGA-KC-A7FA-01\tTCGA-KC-A7FD-01\tTCGA-KC-A7FE-01\tTCGA-KK-A59V-01\tTCGA-KK-A59X-01\tTCGA-KK-A59Y-01\tTCGA-KK-A59Z-01\tTCGA-KK-A5A1-01\tTCGA-KK-A6DY-01\tTCGA-KK-A6E0-01\tTCGA-KK-A6E1-01\tTCGA-KK-A6E2-01\tTCGA-KK-A6E5-01\tTCGA-KK-A6E6-01\tTCGA-KK-A7AP-01\tTCGA-KK-A7AQ-01\tTCGA-KK-A7AU-01\tTCGA-KK-A7AV-01\tTCGA-KK-A7AW-01\tTCGA-KK-A7AY-01\tTCGA-KK-A7AZ-01\tTCGA-KK-A7B0-01\tTCGA-KK-A7B1-01\tTCGA-KK-A7B2-01\tTCGA-KK-A7B3-01\tTCGA-KK-A7B4-01\tTCGA-KK-A8I4-01\tTCGA-KK-A8I5-01\tTCGA-KK-A8I6-01\tTCGA-KK-A8I7-01\tTCGA-KK-A8I8-01\tTCGA-KK-A8I9-01\tTCGA-KK-A8IA-01\tTCGA-KK-A8IB-01\tTCGA-KK-A8IC-01\tTCGA-KK-A8ID-01\tTCGA-KK-A8IF-01\tTCGA-KK-A8IG-01\tTCGA-KK-A8IH-01\tTCGA-KK-A8II-01\tTCGA-KK-A8IJ-01\tTCGA-KK-A8IK-01\tTCGA-KK-A8IL-01\tTCGA-KK-A8IM-01\tTCGA-M7-A71Y-01\tTCGA-M7-A71Z-01\tTCGA-M7-A720-01\tTCGA-M7-A721-01\tTCGA-M7-A722-01\tTCGA-M7-A723-01\tTCGA-M7-A724-01\tTCGA-M7-A725-01\tTCGA-MG-AAMC-01\tTCGA-SU-A7E7-01\tTCGA-TK-A8OK-01\tTCGA-TP-A8TT-01\tTCGA-TP-A8TV-01\tTCGA-V1-A8MF-01\tTCGA-V1-A8MG-01\tTCGA-V1-A8MJ-01\tTCGA-V1-A8MK-01\tTCGA-V1-A8ML-01\tTCGA-V1-A8MM-01\tTCGA-V1-A8MU-01\tTCGA-V1-A8WL-01\tTCGA-V1-A8WN-01\tTCGA-V1-A8WS-01\tTCGA-V1-A8WV-01\tTCGA-V1-A8WW-01\tTCGA-V1-A8X3-01\tTCGA-V1-A9O5-01\tTCGA-V1-A9O7-01\tTCGA-V1-A9O9-01\tTCGA-V1-A9OA-01\tTCGA-V1-A9OF-01\tTCGA-V1-A9OH-01\tTCGA-V1-A9OL-01\tTCGA-V1-A9OQ-01\tTCGA-V1-A9OT-01\tTCGA-V1-A9OX-01\tTCGA-V1-A9OY-01\tTCGA-V1-A9Z7-01\tTCGA-V1-A9Z8-01\tTCGA-V1-A9Z9-01\tTCGA-V1-A9ZG-01\tTCGA-V1-A9ZI-01\tTCGA-V1-A9ZK-01\tTCGA-V1-A9ZR-01\tTCGA-VN-A88I-01\tTCGA-VN-A88K-01\tTCGA-VN-A88L-01\tTCGA-VN-A88M-01\tTCGA-VN-A88N-01\tTCGA-VN-A88O-01\tTCGA-VN-A88P-01\tTCGA-VN-A88Q-01\tTCGA-VN-A88R-01\tTCGA-VN-A943-01\tTCGA-VP-A872-01\tTCGA-VP-A875-01\tTCGA-VP-A876-01\tTCGA-VP-A878-01\tTCGA-VP-A879-01\tTCGA-VP-A87B-01\tTCGA-VP-A87C-01\tTCGA-VP-A87D-01\tTCGA-VP-A87E-01\tTCGA-VP-A87H-01\tTCGA-VP-A87J-01\tTCGA-VP-A87K-01\tTCGA-VP-AA1N-01\tTCGA-WW-A8ZI-01\tTCGA-X4-A8KQ-01\tTCGA-X4-A8KS-01\tTCGA-XA-A8JR-01\tTCGA-XJ-A83F-01\tTCGA-XJ-A83G-01\tTCGA-XJ-A83H-01\tTCGA-XJ-A9DI-01\tTCGA-XJ-A9DK-01\tTCGA-XJ-A9DQ-01\tTCGA-XJ-A9DX-01\tTCGA-XK-AAIR-01\tTCGA-XK-AAIV-01\tTCGA-XK-AAIW-01\tTCGA-XK-AAJA-01\tTCGA-XK-AAJP-01\tTCGA-XK-AAJR-01\tTCGA-XK-AAJT-01\tTCGA-XK-AAJU-01\tTCGA-XQ-A8TA-01\tTCGA-XQ-A8TB-01\tTCGA-Y6-A8TL-01\tTCGA-Y6-A9XI-01\tTCGA-YJ-A8SW-01\tTCGA-YL-A8HJ-01\tTCGA-YL-A8HK-01\tTCGA-YL-A8HL-01\tTCGA-YL-A8HM-01\tTCGA-YL-A8HO-01\tTCGA-YL-A8S8-01\tTCGA-YL-A8S9-01\tTCGA-YL-A8SA-01\tTCGA-YL-A8SB-01\tTCGA-YL-A8SC-01\tTCGA-YL-A8SF-01\tTCGA-YL-A8SH-01\tTCGA-YL-A8SI-01\tTCGA-YL-A8SJ-01\tTCGA-YL-A8SK-01\tTCGA-YL-A8SL-01\tTCGA-YL-A8SO-01\tTCGA-YL-A8SP-01\tTCGA-YL-A8SQ-01\tTCGA-YL-A8SR-01\tTCGA-YL-A9WH-01\tTCGA-YL-A9WI-01\tTCGA-YL-A9WJ-01\tTCGA-YL-A9WK-01\tTCGA-YL-A9WL-01\tTCGA-YL-A9WX-01\tTCGA-YL-A9WY-01\tTCGA-ZG-A8QW-01\tTCGA-ZG-A8QX-01\tTCGA-ZG-A8QY-01\tTCGA-ZG-A8QZ-01\tTCGA-ZG-A9KY-01\tTCGA-ZG-A9L0-01\tTCGA-ZG-A9L1-01\tTCGA-ZG-A9L2-01\tTCGA-ZG-A9L4-01\tTCGA-ZG-A9L5-01\tTCGA-ZG-A9L6-01\tTCGA-ZG-A9L9-01\tTCGA-ZG-A9LB-01\tTCGA-ZG-A9LM-01\tTCGA-ZG-A9LN-01\tTCGA-ZG-A9LS-01\tTCGA-ZG-A9LU-01\tTCGA-ZG-A9LY-01\tTCGA-ZG-A9LZ-01\tTCGA-ZG-A9M4-01\tTCGA-ZG-A9MC-01\tTCGA-ZG-A9N3-01\tTCGA-ZG-A9ND-01\tTCGA-ZG-A9NI-01\tTCGA-EJ-A65B-01\tTCGA-EJ-A65D-01\tTCGA-FC-A66V-01\tTCGA-FC-A6HD-01\tTCGA-G9-6347-01\tTCGA-G9-6379-01\tTCGA-H9-A6BY-01\tTCGA-HC-A6AL-01\tTCGA-HC-A6AN-01\tTCGA-HC-A6AO-01\tTCGA-HC-A6AP-01\tTCGA-HC-A6AQ-01\tTCGA-HC-A6AS-01\tTCGA-HC-A6HX-01\tTCGA-HC-A6HY-01\tTCGA-J4-A67K-01\tTCGA-J4-A67L-01\tTCGA-J4-A67M-01\tTCGA-J4-A67N-01\tTCGA-J4-A67O-01\tTCGA-J4-A67Q-01\tTCGA-J4-A67R-01\tTCGA-J4-A67S-01\tTCGA-J4-A6M7-01\tTCGA-KK-A6E3-01\tTCGA-KK-A6E4-01\tTCGA-KK-A6E7-01\tTCGA-KK-A6E8-01\tTCGA-QU-A6IL-01\tTCGA-QU-A6IM-01\tTCGA-QU-A6IN-01\tTCGA-QU-A6IO-01\tTCGA-QU-A6IP-01\n",
            "\t100130426\t-3.925\t-3.925\t-3.925\t-3.925\t-3.925\t-3.925\t-3.925\t-3.925\t-3.925\t-3.925\t-3.925\t-3.925\t-3.925\t-3.925\t-3.925\t-3.925\t-3.925\t-3.925\t-3.925\t-3.925\t-3.925\t-3.925\t-3.925\t-3.925\t-3.925\t-3.925\t-3.925\t-3.925\t-3.925\t-3.925\t-3.925\t-3.925\t-3.925\t-3.925\t-3.925\t-3.925\t-3.925\t-3.925\t-3.925\t-3.925\t-3.925\t-3.925\t-3.925\t-3.925\t-0.9658\t-3.925\t-3.925\t-3.925\t-3.925\t-3.925\t-3.925\t-3.925\t-3.925\t-3.925\t-3.925\t-3.925\t-3.925\t-3.925\t-3.925\t-3.925\t-3.925\t-3.925\t-3.925\t-3.925\t-3.925\t-3.925\t-3.925\t-3.925\t-3.925\t-3.925\t-3.925\t-3.925\t-3.925\t-3.925\t-3.925\t-3.925\t-3.925\t-3.925\t-3.925\t-0.3054\t-3.925\t-3.925\t-3.925\t-3.925\t-3.925\t-3.925\t-3.925\t-3.925\t-3.925\t-3.925\t-3.925\t-3.925\t-3.925\t-3.925\t-3.925\t-3.925\t-3.925\t-3.925\t-0.1974\t-3.925\t-3.925\t-3.925\t-3.925\t-3.925\t-3.925\t-3.925\t-3.925\t-3.925\t-3.925\t-3.925\t-3.925\t-3.925\t-3.925\t-3.925\t-3.925\t-3.925\t-3.925\t-3.925\t-3.925\t-3.925\t-3.925\t-3.925\t-3.925\t-3.925\t-3.925\t-3.925\t-3.925\t-3.925\t-0.4918\t-3.925\t-3.925\t-3.925\t-3.925\t-3.925\t-3.925\t-3.925\t-3.925\t-0.7878\t-3.925\t-3.925\t-3.925\t-3.925\t-3.925\t-3.925\t-3.925\t-3.925\t-3.925\t-3.925\t-3.925\t-3.925\t-3.925\t-3.925\t-3.925\t-3.925\t-3.925\t-3.925\t-3.925\t-3.925\t-3.925\t-3.925\t-3.925\t-3.925\t-3.925\t-3.925\t-3.925\t-3.925\t-3.925\t-3.925\t-3.925\t-3.925\t-3.925\t1.7317\t-3.925\t-0.7031\t-3.925\t-3.925\t-3.925\t-3.925\t-3.925\t-3.925\t-3.925\t-3.925\t-3.925\t-3.925\t0.0968\t-3.925\t-3.925\t-3.925\t-3.925\t0.8867\t-3.925\t-3.925\t-3.925\t-3.925\t-3.925\t-3.925\t-3.925\t-0.6961\t-3.925\t-3.925\t-3.925\t-3.925\t-3.925\t-3.925\t-3.925\t-3.925\t-3.925\t-3.925\t-1.473\t-3.925\t-3.925\t-3.925\t-3.925\t-3.925\t-3.925\t-3.925\t-3.925\t-3.925\t-3.925\t-3.925\t-3.925\t-3.925\t-3.925\t-3.925\t-3.925\t-3.925\t-3.925\t-3.925\t-3.925\t-3.925\t-3.925\t-3.925\t-3.925\t-3.925\t-3.925\t-0.4221\t-3.925\t-3.925\t-3.925\t-3.925\t-3.925\t-3.925\t-3.925\t-3.925\t-0.9989\t-3.925\t-3.925\t-3.925\t-3.925\t-3.925\t-3.925\t-3.925\t-3.925\t-3.925\t-3.925\t-3.925\t-1.0353\t-3.925\t-3.925\t-3.925\t-3.925\t-3.925\t-3.925\t-3.925\t0.6487\t-3.925\t0.0676\t-3.925\t-3.925\t-3.925\t-3.925\t-3.925\t-3.925\t-3.925\t-3.925\t-3.925\t-3.925\t-3.925\t-3.925\t-3.925\t-3.925\t-3.925\t-3.925\t-3.925\t-3.925\t-3.925\t-3.925\t-3.925\t-0.4206\t-3.925\t-3.925\t-3.925\t-3.925\t-3.925\t-3.925\t-3.925\t-3.925\t-3.925\t-3.925\t-3.925\t-3.925\t-3.925\t-3.925\t-3.925\t-3.925\t-3.925\t-3.925\t-3.925\t-3.925\t-3.925\t-3.925\t-3.925\t-3.925\t-3.925\t-3.925\t-3.925\t-3.925\t-3.925\t-3.925\t-3.925\t-3.925\t-3.925\t-3.925\t0.9111\t-3.925\t-3.925\t-3.925\t-3.925\t-3.925\t-3.925\t-3.925\t-3.925\t-3.925\t-3.925\t-3.925\t-3.925\t-3.925\t-3.925\t-3.925\t-3.925\t-3.925\t-3.925\t-3.925\t-3.925\t-3.925\t-3.925\t-3.925\t-3.925\t-3.925\t-3.925\t-3.925\t-3.925\t-3.925\t-3.925\t-3.925\t-3.925\t-3.925\t-3.925\t-3.925\t-3.925\t-3.925\t-3.925\t-3.925\t-3.925\t-3.925\t-3.925\t-3.925\t-3.925\t0.5993\t-3.925\t-3.925\t-3.925\t-3.925\t-3.925\t-3.925\t-3.925\t-3.925\t-3.925\t-3.925\t-3.925\t-3.925\t-3.925\t-3.925\t-3.925\t-3.925\t-3.925\t-3.925\t-3.925\t-3.925\t-3.925\t-3.925\t-3.925\t-3.925\t-3.925\t-3.925\t-3.925\t-3.925\t-3.925\t-3.925\t-3.925\t-3.925\t-3.925\t-3.925\t-3.925\t-3.925\t-3.925\t-3.925\t-3.925\t-3.925\t-3.925\t-3.925\t-3.925\t-3.925\t-3.925\t-3.925\t-0.0097\t-3.925\t-3.925\t-3.925\t-3.925\t-3.925\t-3.925\t-3.925\t-3.925\t-3.925\t-3.925\t-3.925\t-3.925\t-3.925\t-3.925\t-3.925\t-3.925\t-3.925\t-3.925\t-3.925\t-3.925\t-3.925\t-3.925\t-3.925\t-3.925\t-3.925\t-3.925\t-3.925\t-3.925\t-3.925\t-3.925\t-3.925\t-3.925\t-3.925\t-3.925\t-3.925\t-3.925\t3.0087\t-3.925\t-3.925\t-0.0839\t-3.925\t-3.925\t-3.925\t-3.925\t-3.925\t-3.925\t-3.925\t-3.925\t-3.925\t-3.925\t-3.925\t-3.925\t-3.925\t-3.925\t-0.6985\t-3.925\t-3.925\t-3.925\t-3.925\t-3.925\t1.5768\t-3.925\t-3.925\t-3.925\t-3.925\t-3.925\t-3.925\t-3.925\t-3.925\t-3.925\t-3.925\t-3.925\t-3.925\t-3.925\t-0.2381\t-3.925\t-3.925\n",
            "\t100133144\t0.9961\t0.8972\t2.2028\t1.0604\t-1.4829\t-1.8601\t0.4421\t-0.0452\t0.126\t-0.2815\t0.0328\t-0.7597\t0.3148\t1.3816\t-0.9752\t-1.1507\t1.3337\t-0.1196\t0.7064\t1.3242\t-0.1168\t0.543\t-0.006\t0.8063\t1.7375\t0.6359\t0.8111\t0.6877\t-0.9867\t1.3775\t0.7083\t0.3794\t0.3136\t1.1822\t0.7186\t-0.7315\t-1.4078\t0.3247\t0.5311\t0.9327\t0.7822\t-0.7953\t-0.4143\t-0.9985\t0.9541\t-0.059\t0.6001\t-0.4708\t0.1503\t0.5542\t0.4638\t0.5521\t0.1009\t0.2558\t1.6978\t-0.7836\t1.1182\t-0.2014\t-0.3499\t0.9493\t-0.2721\t1.1202\t1.0542\t-0.3648\t-1.0597\t-1.3413\t0.2466\t-0.978\t0.7814\t0.9669\t2.0484\t1.1115\t0.3189\t0.7542\t-0.774\t-0.3708\t-0.0323\t-0.2905\t-0.3755\t-0.6567\t0.8318\t-0.8429\t-0.3609\t-1.5813\t-1.2392\t0.7311\t-1.055\t0.7141\t0.4623\t0.0777\t0.1801\t1.0609\t-0.8239\t0.9234\t1.9212\t0.8683\t0.3894\t0.8403\t-0.0486\t-0.9826\t-0.0654\t-0.3698\t0.6811\t-0.0614\t0.3648\t1.4255\t1.5168\t0.1915\t1.3249\t-0.4314\t0.8349\t0.6181\t0.3377\t0.8124\t1.1197\t-0.2943\t-0.628\t-0.2622\t0.0679\t-0.5815\t-1.576\t-1.9358\t-0.2602\t1.4004\t1.2362\t1.2986\t1.4842\t2.1626\t-0.5271\t1.1214\t0.8897\t0.2138\t1.4582\t0.477\t0.9498\t-3.4808\t0.2171\t0.4161\t-1.1852\t0.0577\t-0.7791\t1.2863\t-0.5484\t-2.0048\t-0.7815\t-0.8963\t-2.2102\t-0.1423\t-0.2129\t-0.6969\t-0.815\t-0.6609\t-0.6501\t-1.556\t-0.3131\t-0.4655\t-2.7724\t-0.4377\t-0.2588\t-0.6606\t-1.1101\t-1.3714\t-1.4815\t-0.0072\t-2.237\t-1.342\t0.1348\t-0.572\t-0.2871\t-0.5071\t-0.571\t-1.7175\t-3.4808\t-3.4808\t-0.9028\t-0.7879\t-0.3747\t-0.3606\t-0.2663\t-0.6042\t0.0095\t-1.8901\t0.8257\t0.628\t-0.4552\t-0.0624\t-0.5927\t-0.9573\t1.2844\t-0.3571\t0.3114\t0.48\t-0.7325\t0.7047\t0.0614\t-0.6416\t0.0603\t-0.0991\t-1.2843\t0.224\t0.7954\t-0.1725\t0.6755\t-0.208\t-1.3197\t-0.509\t-0.0126\t-1.0754\t0.1973\t-0.4815\t-3.4808\t-1.3213\t-0.8436\t-0.1393\t0.6512\t1.0007\t0.1823\t-0.0095\t-0.0368\t-0.5199\t-0.2094\t-0.3556\t-0.2554\t0.8458\t-0.3404\t1.0766\t0.5139\t-0.8707\t0.5198\t0.9944\t0.4758\t0.63\t0.598\t0.6349\t0.7069\t1.1522\t-0.1514\t0.6466\t-1.0558\t0.8093\t-1.6313\t-2.3228\t-1.8686\t0.162\t1.0025\t-0.9143\t0.5489\t-0.0474\t-0.6574\t1.5635\t-0.2665\t1.1348\t0.8463\t1.5157\t-1.2955\t1.3549\t1.3386\t-0.5571\t-0.8498\t-1.2085\t-1.4748\t-2.8015\t-0.4902\t0.2348\t-0.2663\t0.3445\t-0.0028\t0.8824\t-1.0216\t-0.5755\t0.7294\t0.7743\t-0.3198\t1.2297\t0.5121\t0.3598\t-0.8444\t-1.2694\t-1.7084\t-0.3842\t-1.4339\t0.1548\t0.6714\t-0.7839\t0.45\t0.6681\t-1.5115\t-1.1119\t0.524\t-1.1204\t0.4944\t0.0815\t-2.5439\t0.3768\t-0.6862\t-0.9588\t0.5156\t-1.291\t-2.6531\t1.1539\t0.8167\t-0.1301\t0.4877\t-0.0945\t-1.1128\t-0.4161\t0.9225\t0.1578\t1.1422\t0.5309\t-0.6172\t0.0018\t1.9758\t1.5035\t0.074\t0.9995\t0.2036\t1.0958\t-0.6066\t-0.1324\t0.9466\t-0.4812\t-2.135\t-0.3118\t-1.6704\t0.2108\t-1.3124\t1.1493\t-0.2083\t-1.618\t0.2354\t-0.7251\t0.5821\t0.3298\t0.6007\t-1.3341\t0.338\t-1.9291\t0.8786\t0.5708\t1.2796\t0.9836\t0.662\t1.3673\t0.2514\t1.0465\t1.599\t0.7071\t0.1838\t-1.5155\t0.6214\t-0.0244\t-3.4808\t-0.7913\t-0.9545\t0.0135\t-1.9613\t-1.7876\t0.7327\t-0.9405\t0.476\t-0.7865\t0.1294\t-0.3862\t0.1124\t-2.8124\t-1.1758\t0.0682\t-0.1428\t0.9143\t-1.1446\t0.2475\t0.0123\t-0.8446\t0.9135\t0.8567\t1.1727\t0.1269\t0.3934\t1.1117\t-0.8894\t0.2068\t0.4373\t0.4369\t-2.2466\t0.9487\t-1.3356\t-1.492\t1.2048\t-0.2516\t-2.7145\t0.9485\t1.6702\t1.0904\t-1.2011\t-0.6474\t0.9223\t-1.1378\t-0.1317\t1.2703\t-0.0772\t0.1719\t-0.211\t0.5612\t1.7017\t1.4334\t0.4937\t1.0482\t1.1003\t1.5232\t1.1733\t0.6087\t-0.0176\t0.2815\t1.2248\t0.9499\t1.9297\t0.1258\t0.5429\t0.1841\t0.8364\t0.0904\t2.0999\t1.3043\t1.2047\t-1.1273\t0.8212\t0.9999\t0.1862\t0.8896\t1.3958\t0.9247\t-1.2652\t0.8185\t1.4386\t0.8911\t0.6619\t-0.26\t0.7054\t-0.1996\t0.5313\t-0.5942\t0.1895\t-0.9904\t1.0399\t0.4834\t0.2591\t-0.9416\t-1.723\t-1.3183\t-2.1888\t0.5319\t-0.1085\t0.9365\t0.2862\t0.9094\t0.3699\t-0.5692\t0.0696\t0.4501\t-0.501\t1.2219\t-0.9625\t-0.4511\t-0.2868\t-1.4836\t-0.3859\t-1.1333\t0.4782\t0.078\t-0.2524\t-2.8149\t0.0856\t-1.3402\t1.2899\t-1.2975\t-0.5453\t0.6185\t-2.8149\t0.6821\t0.0348\t1.3703\t-1.4633\t1.3749\t-1.1569\t0.0372\t0.2888\t-0.3819\t0.7901\t1.9255\t-2.8149\t-2.8149\t0.4277\n",
            "UBE2Q2P2\t100134869\t0.2808\t-0.0291\t2.0529\t0.2002\t-0.6803\t1.3721\t0.1296\t0.6309\t0.2815\t0.1744\t-0.0161\t-0.9113\t-1.3051\t-0.0624\t0.1361\t-0.8987\t-0.0252\t0.1344\t-0.1802\t0.7029\t-1.7163\t-0.4998\t-0.8266\t-0.2092\t-0.255\t1.0191\t-0.1158\t-1.0921\t-0.3983\t-2.0351\t0.3974\t0.425\t-1.2931\t-0.4851\t-0.0879\t-0.4057\t-1.4523\t-1.0005\t0.0846\t-0.7954\t0.2028\t-1.9354\t-0.7481\t-0.5005\t0.5093\t-0.6745\t-0.0834\t-1.2915\t-0.7762\t0.385\t0.3707\t-0.2276\t-0.4173\t-0.9184\t0.9094\t0.0302\t-0.1343\t-0.5041\t-0.5952\t0.2341\t-1.266\t-0.2491\t-2.4885\t-1.2286\t-0.5429\t-0.5867\t0.3355\t-0.7547\t0.1051\t-0.4922\t0.4489\t-0.5345\t-0.7911\t0.1389\t-1.9494\t-0.9516\t-0.9456\t-0.1459\t-1.8362\t-0.6998\t-0.3303\t-0.2463\t-2.1642\t-1.4907\t0.7183\t-0.6655\t-0.1673\t-0.6882\t-0.3078\t-0.091\t-0.4218\t1.1352\t-0.2691\t0.2205\t0.1849\t-0.3123\t0.3583\t-0.49\t-0.2776\t-0.7939\t-0.5532\t-0.8025\t-0.8198\t-0.8681\t0.3055\t0.1668\t0.5461\t-0.5522\t0.4401\t0.4526\t1.4296\t0.604\t-0.2794\t0.7551\t0.5599\t0.1332\t0.1678\t1.013\t0.5363\t-0.8729\t-2.1367\t1.3977\t0.0355\t-0.4028\t0.565\t1.4797\t1.8798\t1.7319\t1.0968\t0.8642\t0.5847\t1.1959\t2.5532\t-0.0729\t1.4385\t0.4615\t0.1154\t0.792\t-0.0931\t0.4144\t-1.5242\t1.4176\t-0.9605\t-0.1526\t-0.5372\t-2.9156\t-3.2374\t-1.2091\t-1.0688\t-0.9605\t-0.9748\t-0.8249\t0.5503\t0.5212\t-0.7575\t0.5409\t-0.4175\t-1.6024\t-0.7463\t-0.5566\t-2.7947\t-1.1511\t-2.2877\t-0.7615\t-0.8309\t-0.9539\t-0.0877\t-2.1929\t-0.6562\t-1.5903\t-0.932\t-2.4477\t-1.1\t-1.0538\t1.512\t0.2221\t-0.8909\t-1.759\t-0.4196\t-2.2499\t-0.3495\t-1.8983\t0.1638\t0.923\t0.1659\t-0.4815\t0.2248\t-1.014\t0.3495\t0.4878\t-0.2126\t0.1274\t-0.6878\t-0.6027\t-0.0155\t-0.104\t0.1758\t-0.8196\t-0.4811\t1.0014\t0.6196\t-0.2316\t-0.1003\t-0.472\t-0.4712\t0.6943\t0.9752\t0.4328\t0.2082\t-2.2573\t0.1672\t-1.6603\t-0.4133\t-0.8037\t-0.452\t1.2283\t0.366\t-1.2761\t-0.3323\t-0.4341\t-1.7856\t-0.1853\t-0.2507\t0.3742\t-0.4174\t-0.002\t-0.2623\t-1.1771\t-1.6152\t-0.1355\t0.856\t0.2515\t-2.6215\t1.2883\t0.1193\t1.5682\t-0.5068\t0.7897\t0.0012\t1.689\t-1.3087\t-1.3969\t0.0312\t-0.0239\t0.5097\t0.502\t-0.3888\t0.7652\t0.4458\t1.987\t0.4282\t2.1189\t0.0841\t1.7819\t1.1991\t0.6283\t1.5464\t0.4498\t-0.8499\t-0.6777\t-1.0187\t-0.6712\t0.5328\t0.9297\t1.8238\t1.5458\t-0.8252\t0.3583\t0.0419\t1.9176\t1.2136\t0.6598\t-1.0717\t0.9942\t0.7713\t0.9416\t0.0562\t-3.3241\t-0.8355\t0.3314\t-1.0031\t-1.7624\t-0.4836\t-0.3431\t1.0189\t0.1337\t-2.875\t-0.0293\t0.8951\t-0.5262\t-0.306\t-0.1717\t-4.0599\t-0.0343\t0.3329\t-1.5523\t-0.7763\t-0.4211\t0.9829\t1.4099\t1.1489\t1.0706\t0.7354\t-0.921\t1.4044\t0.3948\t0.0734\t0.4758\t0.9844\t1.822\t-0.2363\t-0.1043\t1.8466\t1.3802\t0.5764\t-0.291\t0.5606\t1.631\t-1.2006\t-0.1496\t1.7079\t0.8968\t-1.1296\t-1.2243\t-1.7355\t0.601\t-0.4452\t0.9255\t0.8345\t1.0075\t0.2576\t-1.0264\t0.1678\t1.1987\t-0.3746\t0.3067\t-0.2116\t1.2707\t0.0939\t0.3351\t1.0721\t1.4606\t0.3006\t1.3381\t0.8057\t1.3645\t1.9845\t0.6949\t0.6111\t0.1044\t0.0384\t-0.321\t-0.9005\t0.7925\t0.3223\t-0.3562\t-0.0915\t1.1548\t-0.4828\t0.3159\t1.1003\t0.3909\t1.1354\t0.0531\t0.242\t-1.0698\t-0.6231\t-0.9607\t1.3925\t1.1773\t-2.0455\t-0.7668\t-0.0416\t1.2247\t-0.5812\t0.8043\t1.9863\t0.0002\t0.141\t0.6833\t-0.2035\t0.1805\t1.399\t2.1021\t-1.0175\t-0.069\t-0.7762\t-0.6779\t1.4977\t0.2841\t-0.2568\t1.398\t1.3208\t0.3675\t0.2614\t-0.9117\t-0.1896\t-0.1245\t-0.4316\t2.2098\t-1.8001\t0.2049\t-0.2311\t1.4177\t1.7013\t0.662\t0.6057\t-0.0452\t1.0352\t1.2114\t1.7812\t1.5998\t0.701\t-0.6072\t-0.378\t0.9458\t2.5746\t-0.5105\t1.4898\t0.1409\t-0.1559\t0.0689\t2.0454\t0.814\t0.9162\t-0.3019\t1.7759\t1.0234\t-0.542\t1.0094\t-0.8188\t-0.1281\t1.572\t1.1852\t1.6352\t1.1833\t-0.3478\t0.0992\t1.2686\t0.6297\t-0.1494\t-0.0309\t0.5141\t-1.0035\t0.3059\t0.8231\t0.143\t-0.3827\t0.5242\t-0.5394\t-0.9592\t-0.4406\t0.4834\t0.7759\t0.2894\t0.8918\t0.0658\t-0.9683\t0.7052\t-0.9391\t-0.4538\t0.3376\t2.1047\t0.1453\t-1.1644\t-0.0137\t0.0866\t1.611\t-0.6961\t0.9695\t-0.414\t0.2798\t0.3457\t-0.136\t-0.0263\t0.2624\t-0.3563\t1.1287\t0.2913\t-1.5901\t-0.8821\t0.4201\t0.5244\t0.0751\t0.2109\t1.291\t-1.3789\t-0.433\t-2.1185\t-4.0599\t-0.0429\t-1.774\t0.0074\n",
            "HMGB1P1\t10357\t-0.6698\t-1.5009\t-0.1843\t0.2431\t-0.102\t0.2378\t-0.4986\t-1.1154\t-0.3088\t-0.1659\t-0.7773\t-0.3197\t0.3863\t0.1139\t0.2738\t0.7481\t0.8066\t1.1344\t0.5833\t0.5352\t0.3997\t1.0647\t2.1019\t1.0045\t1.3567\t1.46\t2.1218\t0.8998\t0.2068\t0.8471\t0.8815\t0.4859\t-1.9507\t0.5154\t0.6971\t0.9466\t-0.079\t-0.1437\t0.4647\t0.3361\t-0.0599\t0.2537\t0.7164\t0.4211\t-0.2991\t0.8606\t0.4131\t1.0454\t1.4248\t0.1952\t0.1158\t0.6585\t0.0272\t-0.0168\t0.1712\t-0.0459\t0.8856\t0.4952\t0.5564\t0.3185\t-0.0269\t0.3259\t1.0647\t-0.2585\t0.2833\t-1.3303\t-0.1755\t-0.5038\t0.8223\t0.9996\t-0.2891\t0.4494\t0.5083\t-0.0833\t0.4463\t-0.0321\t0.4874\t-0.1142\t-0.2421\t-0.5578\t-2.1013\t1.4348\t1.5725\t0.5703\t-1.1975\t1.1179\t-2.3561\t1.3842\t1.5167\t1.2581\t0.4975\t1.2008\t0.784\t1.3466\t1.3351\t1.0174\t-0.6457\t1.2108\t1.6095\t0.6345\t0.8874\t0.9771\t1.1615\t0.6636\t-0.0023\t-0.6411\t0.2667\t0.9855\t0.4636\t1.1133\t-0.9841\t0.946\t-0.4314\t0.8015\t0.5658\t0.6725\t0.3357\t-1.4255\t-0.0355\t0.708\t0.2985\t-1.9949\t-0.8027\t-0.6335\t-1.6466\t-1.1921\t-1.7443\t-1.5025\t-1.0388\t-2.1032\t-1.5333\t-0.0104\t-0.291\t-0.3091\t0.0608\t-1.2806\t-0.4196\t1.2791\t0.3577\t0.4892\t1.1532\t-0.2006\t0.9499\t-0.4426\t0.5581\t-0.4186\t-0.8774\t0.3961\t1.0108\t-1.21\t0.4995\t1.05\t0.3808\t0.3062\t-0.4366\t-0.5749\t-1.3457\t1.2848\t-0.7364\t-0.1726\t0.2342\t-0.1615\t-0.834\t-0.5143\t-0.4248\t-0.3014\t-0.7264\t-0.0541\t-0.2627\t-0.0739\t-0.2505\t-1.6647\t-0.0998\t0.8716\t-0.6895\t0.7554\t0.4697\t1.6493\t1.2139\t1.2496\t0.8318\t1.179\t0.1955\t0.7588\t0.6893\t0.5428\t0.712\t0.5787\t0.993\t0.8563\t0.732\t0.1596\t0.8658\t1.0491\t-0.0813\t1.276\t2.031\t1.1461\t-0.0004\t0.5372\t1.4957\t0.0616\t0.5118\t0.6071\t1.7012\t0.9602\t1.2286\t0.8193\t1.426\t0.0536\t1.2362\t-1.3813\t0.2458\t1.4355\t-0.1484\t0.0628\t-0.429\t0.856\t0.301\t0.7368\t0.9288\t0.8399\t1.3968\t1.0965\t0.8529\t1.7224\t0.0015\t1.4521\t1.0704\t0.2053\t0.9412\t0.6121\t0.7003\t-0.6406\t-0.7677\t0.9594\t0.2461\t0.018\t-0.2098\t-0.4825\t1.6148\t1.6261\t1.3379\t1.7338\t1.1399\t0.5351\t0.2963\t1.2323\t0.4735\t-0.7927\t-1.5106\t0.5545\t0.5718\t0.4702\t0.5593\t-0.464\t-0.2269\t-1.5158\t1.0199\t0.5951\t0.7793\t2.4886\t-1.3894\t-1.0169\t-1.9602\t-0.038\t0.2923\t1.207\t1.2208\t-1.7681\t1.4774\t-2.1724\t-1.589\t-1.4761\t-2.3164\t-0.6855\t-1.4635\t0.6711\t0.3327\t0.9199\t0.5431\t0.9558\t0.066\t0.4198\t-0.8823\t1.1686\t-0.0612\t0.4322\t-0.0192\t-2.8074\t-0.3687\t-0.5391\t-4.0667\t-4.4906\t0.324\t-1.5161\t0.0633\t-0.4146\t-1.4945\t-1.8249\t-0.24\t0.244\t0.3446\t-0.6368\t0.8282\t-0.5045\t0.1798\t-0.108\t-0.1143\t2.0443\t0.5003\t-0.0927\t-1.9572\t-0.2929\t-0.3065\t1.3734\t-0.6103\t-0.4769\t-0.4495\t-0.6295\t-0.7843\t-0.5524\t-3.026\t-2.9902\t-0.2086\t-0.0018\t-0.3286\t-1.9749\t1.1659\t-0.0197\t-1.1607\t-1.4968\t-0.1802\t-0.318\t-0.1665\t-1.2799\t-1.8019\t-0.7556\t-0.3997\t-0.2398\t1.2305\t-0.8686\t-0.6619\t-0.7245\t-1.7279\t-0.1342\t-0.0195\t0.0677\t0.1613\t-0.5128\t-1.321\t-1.1261\t-1.4759\t-1.3437\t-0.2723\t-0.0873\t0.6531\t-0.1192\t-0.934\t-0.6132\t-0.2156\t-0.2765\t1.0461\t0.159\t-0.3802\t-0.7068\t0.16\t-0.998\t0.9029\t1.0546\t0.0316\t-1.7205\t0.536\t0.6707\t-0.2862\t-0.8144\t-1.8605\t-2.8904\t0.2216\t0.0035\t-0.2869\t-0.4919\t-0.9699\t-0.2739\t-0.1432\t-0.0611\t0.3418\t-1.6498\t-0.137\t-1.6966\t-2.7821\t-0.1334\t-0.9976\t0.5291\t0.2543\t-0.5471\t-0.4461\t-0.2857\t0.2138\t-0.9189\t-1.0883\t-0.2907\t-1.0319\t0.8037\t1.2738\t-0.2184\t-1.6726\t-0.858\t0.3731\t-0.0805\t-0.1632\t0.3548\t0.9366\t0.4079\t-0.2886\t-0.3494\t-2.7455\t0.7234\t-1.4524\t1.8054\t-0.2017\t-0.7153\t0.0493\t-0.4546\t-0.89\t-1.0422\t0.7121\t0.1361\t-0.4455\t-1.3252\t-0.5214\t-2.0995\t-0.8058\t-0.5152\t-0.2165\t0.5853\t-0.6282\t0.063\t0.0549\t0.3874\t-0.5656\t-0.0794\t0.418\t-0.0991\t-1.0377\t-0.155\t-0.2303\t-0.3801\t0.3421\t1.3124\t-0.6987\t-0.6713\t-0.957\t-0.4957\t0.1388\t0.685\t0.1655\t0.7486\t-1.3813\t-0.7439\t-1.2713\t0.7048\t-0.5766\t1.0648\t-0.4421\t0.2136\t0.083\t0.474\t0.1961\t0.0549\t0.0407\t0.692\t0.0712\t0.365\t2.3792\t0.6146\t-0.0604\t0.017\t-0.9826\t-0.9493\t0.1347\t0.3139\t-0.0753\t2.2364\t0.8725\t-1.7809\t1.3696\t0.7016\t-0.7843\t-2.5256\t0.0777\t-1.6297\t0.8809\n",
            "\t10431\t1.5187\t-0.031\t-1.4942\t0.197\t-0.1675\t0.6453\t-0.5611\t0.5763\t0.2351\t0.2432\t0.0208\t0.5137\t-0.9694\t-0.6384\t-0.0689\t0.89\t-0.8276\t0.8776\t-0.6532\t-0.4556\t-0.2525\t-0.1114\t-1.0147\t-0.342\t-0.0183\t0.5472\t0.4565\t-0.3054\t0.0073\t-1.2666\t-1.0421\t0.1641\t0.1954\t0.211\t0.5509\t-0.7001\t0.9155\t-0.1944\t-0.751\t-0.9536\t0.1294\t-0.9121\t0.511\t-0.9092\t-0.9343\t0.326\t-0.7989\t-0.2038\t1.0128\t-0.5964\t-1.3694\t-0.0829\t-1.01\t-0.7436\t-0.5283\t1.3733\t-0.5663\t-0.3898\t-0.4382\t-1.213\t-0.226\t0.7794\t0.1357\t0.241\t0.4828\t-0.8322\t-0.8263\t1.6533\t-0.0368\t1.3444\t-0.6793\t-0.507\t-0.9956\t-0.4807\t-1.6829\t-0.4214\t-1.5611\t-1.1474\t0.0129\t-0.6373\t-0.1341\t0.6855\t1.3096\t0.3534\t1.5229\t-1.4343\t0.5881\t-1.0868\t-0.0379\t-0.7129\t-1.5535\t-1.1285\t-1.2152\t-1.5996\t-0.8352\t-0.6816\t-0.8773\t0.276\t-2.1711\t-0.6024\t-1.2431\t-0.1942\t-1.107\t0.238\t-0.9097\t-0.2168\t0.2244\t1.4835\t-1.1076\t-0.5575\t-0.1679\t-1.0209\t2.2253\t0.2895\t-1.8099\t-1.7575\t0.9309\t-0.0387\t-0.0967\t-1.3322\t1.3571\t0.7526\t-0.4426\t0.1527\t-1.0717\t-1.0785\t-0.3195\t-0.3876\t-0.6211\t0.1654\t-0.5507\t-0.4282\t-0.5079\t-0.6348\t-0.6741\t-0.5912\t-0.0421\t0.2149\t-0.3363\t0.2634\t1.2336\t-0.3475\t1.7847\t1.4743\t0.2954\t1.4338\t1.521\t1.6596\t0.7936\t1.3028\t1.5895\t0.7358\t0.7965\t2.1996\t0.2681\t1.1785\t2.8028\t2.9547\t0.6209\t0.8856\t1.2001\t-0.8129\t1.4769\t-0.7344\t0.5655\t1.4037\t0.603\t-0.1888\t-0.0273\t-0.1105\t-0.2371\t2.0068\t1.9863\t2.2897\t-0.2473\t0.2813\t1.1228\t-1.2453\t0.3868\t-0.0256\t2.059\t1.3469\t0.5334\t0.3403\t-0.4384\t-0.4864\t-0.3919\t-1.667\t-1.9512\t0.0924\t0.8211\t0.0971\t-3.6624\t-0.9174\t0.1798\t-0.202\t0.242\t0.8564\t-1.7222\t-0.623\t-1.0798\t-1.1089\t-0.2047\t-1.502\t-0.6012\t-0.0159\t-0.2039\t0.258\t-0.335\t-0.5887\t-0.3989\t-0.1593\t0.5019\t-0.0324\t0.4793\t-0.4124\t0.3127\t-0.0383\t0.0327\t0.7409\t0.1911\t0.3068\t0.4227\t0.6602\t0.4383\t0.4927\t-0.6632\t0.5635\t-1.3615\t1.2497\t-0.4762\t0.754\t0.072\t-1.1186\t0.9628\t-0.5668\t-1.7767\t-0.8821\t0.1104\t0.6537\t-0.5073\t1.3304\t0.2775\t0.9559\t-0.5595\t-0.6824\t0.8615\t-0.2004\t0.0838\t-0.0727\t0.7194\t-0.3333\t-1.218\t-0.5569\t0.3061\t-0.1512\t-0.8019\t0.0269\t0.0673\t0.1793\t0.3337\t0.8835\t0.2478\t-1.6421\t-1.446\t-0.0686\t-0.0703\t-1.0605\t0.3661\t-0.0636\t-2.025\t0.5552\t0.6594\t1.0605\t0.8444\t0.8453\t-0.7586\t0.885\t1.6357\t-0.8148\t-0.5126\t0.381\t0.1269\t1.4138\t2.3849\t-0.2395\t0.8272\t1.3944\t-0.432\t1.6484\t1.2221\t0.4411\t2.1871\t2.292\t1.6805\t0.9167\t2.3396\t0.4347\t-0.7967\t1.6185\t-1.1675\t-0.5678\t1.6441\t0.0771\t0.6634\t0.8887\t0.8774\t0.7459\t1.0106\t-1.1018\t-0.1361\t-0.1999\t-0.1509\t0.8458\t0.4059\t0.6603\t0.9163\t0.105\t0.7849\t1.2778\t-1.1161\t-0.0056\t0.6463\t1.7479\t1.0938\t1.1026\t2.8311\t-0.9252\t-0.6355\t-3.1246\t0.3214\t0.9518\t-1.2311\t-0.382\t0.2253\t0.7118\t-1.7753\t-0.214\t-0.0562\t-0.5966\t0.4889\t2.0922\t0.1917\t-0.1738\t-0.9358\t-0.1845\t-0.1559\t-0.9764\t0.1306\t-0.3903\t0.2199\t1.0649\t0.3763\t0.4285\t0.1512\t-0.1593\t0.7117\t0.5812\t-0.2258\t0.2244\t-2.057\t-1.5689\t-1.2839\t0.6722\t1.1181\t1.9382\t-0.067\t-0.557\t1.1993\t0.0604\t1.5241\t-1.436\t2.2725\t-0.1222\t0.0224\t-0.0117\t-1.3694\t-1.054\t-0.7829\t-1.2644\t-0.81\t-0.4301\t-0.8119\t-0.3631\t0.292\t-0.1166\t2.0545\t1.2538\t0.0303\t1.9097\t0.5666\t-0.7111\t-0.6643\t-0.1303\t0.0865\t-0.7097\t-1.2825\t-0.537\t-0.1343\t-0.8002\t0.2012\t-0.6818\t-0.1577\t-0.443\t0.1048\t-2.6842\t-0.4291\t-0.5811\t-0.429\t-0.2847\t0.5845\t0.1698\t-0.1009\t-0.8592\t-0.9196\t-2.2033\t-0.2498\t-0.7696\t0.2153\t-2.5161\t-0.0876\t-0.3413\t-1.4707\t-0.6349\t-1.5346\t-0.0772\t0.3825\t-1.2423\t0.5803\t2.0032\t-0.5831\t0.114\t-1.1434\t-0.3372\t-1.2231\t-0.9502\t0.7596\t0.3639\t-0.0128\t-1.7683\t1.0877\t-0.39\t-0.7842\t0.2435\t0.1905\t-0.5942\t-0.1339\t1.8296\t0.9435\t2.4121\t0.5545\t-0.761\t0.2182\t-0.6751\t0.7999\t-2.4414\t-1.9855\t2.0695\t1.1491\t1.526\t0.4945\t0.6585\t-0.6755\t0.4951\t0.7503\t0.8008\t0.1969\t0.617\t-1.5507\t-2.0178\t-0.9137\t0.0822\t-0.9467\t0.3754\t-0.2197\t0.6145\t1.2729\t-0.6248\t0.7637\t1.0663\t-0.0997\t-0.3391\t0.7109\t-1.2329\t-0.0818\t1.0089\t-2.6103\t-0.4792\t0.2891\t0.5977\t1.4064\t0.8572\t-1.2377\n"
          ]
        }
      ]
    },
    {
      "cell_type": "code",
      "source": [
        "!head -n6 {study_id}/data_clinical_patient.txt                          # (Optional) see clinical var definitions"
      ],
      "metadata": {
        "colab": {
          "base_uri": "https://localhost:8080/"
        },
        "id": "5dPP752KPNsF",
        "outputId": "5add79df-60ee-41f4-8234-bff8ee7a3d92"
      },
      "execution_count": null,
      "outputs": [
        {
          "output_type": "stream",
          "name": "stdout",
          "text": [
            "#Patient Identifier\tSubtype\tTCGA PanCanAtlas Cancer Type Acronym\tOther Patient ID\tDiagnosis Age\tSex\tNeoplasm Disease Stage American Joint Committee on Cancer Code\tAmerican Joint Committee on Cancer Publication Version Type\tLast Communication Contact from Initial Pathologic Diagnosis Date\tBirth from Initial Pathologic Diagnosis Date\tLast Alive Less Initial Pathologic Diagnosis Date Calculated Day Value\tEthnicity Category\tForm completion date\tNeoadjuvant Therapy Type Administered Prior To Resection Text\tICD-10 Classification\tInternational Classification of Diseases for Oncology, Third Edition ICD-O-3 Histology Code\tInternational Classification of Diseases for Oncology, Third Edition ICD-O-3 Site Code\tInformed consent verified\tNew Neoplasm Event Post Initial Therapy Indicator\tAmerican Joint Committee on Cancer Metastasis Stage Code\tNeoplasm Disease Lymph Node Stage American Joint Committee on Cancer Code\tAmerican Joint Committee on Cancer Tumor Stage Code\tPerson Neoplasm Cancer Status\tPrimary Lymph Node Presentation Assessment\tPrior Diagnosis\tRace Category\tRadiation Therapy\tPatient Weight\tIn PanCan Pathway Analysis\tOverall Survival Status\tOverall Survival (Months)\tDisease-specific Survival status\tMonths of disease-specific survival\tDisease Free Status\tDisease Free (Months)\tProgression Free Status\tProgress Free Survival (Months)\tGenetic Ancestry Label\n",
            "#Identifier to uniquely specify a patient.\tSubtype\tText field to hold cancer type acronym used by TCGA PanCanAtlas.\tLegacy DMP patient identifier (DMPnnnn)\tAge at which a condition or disease was first diagnosed.\tSex\tThe extent of a cancer, especially whether the disease has spread from the original site to other parts of the body based on AJCC staging criteria.\tThe version or edition of the American Joint Committee on Cancer Cancer Staging Handbooks, a publication by the group formed for the purpose of developing a system of clinical staging for cancer that is acceptable to the American medical profession and is compatible with other accepted classifications.\tTime interval from the date of last followup to the date of initial pathologic diagnosis, represented as a calculated number of days..\tTime interval from a person's date of birth to the date of initial pathologic diagnosis, represented as a calculated number of days.\tTime interval from the last day on which a person is known to be alive to the date of initial pathologic diagnosis, represented as a calculated number of days.\tThe text for reporting information about ethnicity.\tForm completion date\tText term to describe the patient's history of neoadjuvant treatment and the kind of treatment given prior to resection of the tumor.\t10th revision of the International Statistical Classification of Diseases and Related Health Problems.\tThe third edition of the International Classification of Diseases for Oncology, published in 2000, used principally in tumor and cancer registries for coding the site (topography) and the histology (morphology) of neoplasms._The study of the structure of the cells and their arrangement to constitute tissues and, finally, the association among these to form organs.  In pathology, the microscopic process of identifying normal and abnormal morphologic characteristics in tissues, by employing various cytochemical and immunocytochemical stains._A system of numbered categories for representation of data.\tThe third edition of the International Classification of Diseases for Oncology, published in 2000, used principally in tumor and cancer registries for coding the site (topography) and the histology (morphology) of neoplasms._The description of an anatomical region or of a body part._Named locations of, or within, the body._A system of numbered categories for representation of data.\tInformed consent verified\tYes/No/Unknown indicator to identify whether a patient has had a new tumor event after initial treatment.\tCode to represent the defined absence or presence of distant spread or metastases (M) to locations via vascular channels or lymphatics beyond the regional lymph nodes, using criteria established by the American Joint Committee on Cancer (AJCC).\tThe codes that represent the stage of cancer based on the nodes present (N stage) according to criteria based on multiple editions of the AJCC's Cancer Staging Manual.\tCode of pathological T (primary tumor) to define the size or contiguous extension of the primary tumor (T), using staging criteria from the American Joint Committee on Cancer (AJCC).\tPerson neoplasm cancer status.\tPrimary lymph node presentation assessment.\tPrior diagnosis.\tThe text for reporting information about race.\tRadiation Therapy.\tWeight measured in kilograms.\tPatient Part of PanCan Pathway Analysis\tOverall patient survival status.\tOverall survival in months since initial diagonosis.\tThe time period usually begins at the time of diagnosis or at the start of treatment and ends at the time of death.\tThe time period (months) usually begins at the time of diagnosis or at the start of treatment and ends at the time of death.\tDisease free status since initial treatment.\tDisease free (months) since initial treatment.\tProgression Free Status\tProgress Free Survival (Months)\tGenetic ancestries were determined using five different methods as described in Carrot-Zhang et al (2020). These consensus calls were created based on the ancestral population that received the majority of assignments for each patient.\n",
            "#STRING\tSTRING\tSTRING\tSTRING\tNUMBER\tSTRING\tSTRING\tSTRING\tNUMBER\tNUMBER\tNUMBER\tSTRING\tSTRING\tSTRING\tSTRING\tSTRING\tSTRING\tSTRING\tSTRING\tSTRING\tSTRING\tSTRING\tSTRING\tSTRING\tSTRING\tSTRING\tSTRING\tNUMBER\tSTRING\tSTRING\tNUMBER\tSTRING\tNUMBER\tSTRING\tNUMBER\tSTRING\tNUMBER\tSTRING\n",
            "#1\t1\t1\t1\t1\t1\t1\t1\t1\t1\t1\t1\t1\t1\t1\t1\t1\t1\t1\t1\t1\t1\t1\t1\t1\t1\t1\t1\t1\t9\t1\t1\t1\t1\t1\t1\t1\t1\n",
            "PATIENT_ID\tSUBTYPE\tCANCER_TYPE_ACRONYM\tOTHER_PATIENT_ID\tAGE\tSEX\tAJCC_PATHOLOGIC_TUMOR_STAGE\tAJCC_STAGING_EDITION\tDAYS_LAST_FOLLOWUP\tDAYS_TO_BIRTH\tDAYS_TO_INITIAL_PATHOLOGIC_DIAGNOSIS\tETHNICITY\tFORM_COMPLETION_DATE\tHISTORY_NEOADJUVANT_TRTYN\tICD_10\tICD_O_3_HISTOLOGY\tICD_O_3_SITE\tINFORMED_CONSENT_VERIFIED\tNEW_TUMOR_EVENT_AFTER_INITIAL_TREATMENT\tPATH_M_STAGE\tPATH_N_STAGE\tPATH_T_STAGE\tPERSON_NEOPLASM_CANCER_STATUS\tPRIMARY_LYMPH_NODE_PRESENTATION_ASSESSMENT\tPRIOR_DX\tRACE\tRADIATION_THERAPY\tWEIGHT\tIN_PANCANPATHWAYS_FREEZE\tOS_STATUS\tOS_MONTHS\tDSS_STATUS\tDSS_MONTHS\tDFS_STATUS\tDFS_MONTHS\tPFS_STATUS\tPFS_MONTHS\tGENETIC_ANCESTRY_LABEL\n",
            "TCGA-2A-A8VL\tPRAD\tPRAD\t49197847-CC83-4CE1-8397-D09CEA4C4928\t51\tMale\t\t\t621\t-18658\t0\t\t3/29/14\tNo\tC61\t8140/3\tC61.9\tYes\tNo\t\tN0\tT2B\tTumor Free\t\tNo\t\tNo\t\tYes\t0:LIVING\t20.41621462\t0:ALIVE OR DEAD TUMOR FREE\t20.41621462\t\t\t0:CENSORED\t20.41621462\t \n"
          ]
        }
      ]
    },
    {
      "cell_type": "markdown",
      "source": [
        "The data from TCGA has some quirks, requiring some wrangling to get it into a 'tidy' format where rows represent patients or samples and columns represent features. Some helper functions will get it into Pandas DataFrames."
      ],
      "metadata": {
        "id": "FFGnd7rPI1oa"
      }
    },
    {
      "cell_type": "code",
      "source": [
        "import pandas as pd\n",
        "\n",
        "def read_clinical_data(study_id):\n",
        "  clinical = pd.read_table(study_id + '/data_clinical_patient.txt', skiprows=4)\n",
        "  status_cols = [col for col in clinical.columns if col.endswith('S_STATUS')]\n",
        "  # Split columns with values like \"0:ALIVE OR DEAD TUMOR FREE\"\n",
        "  # into binary 0/1 indicators, while keeping the labels for clarity\n",
        "  for col in status_cols:\n",
        "    clinical[[col, col + '_LABEL']] = clinical[col].str.split(':', n=1, expand=True)\n",
        "    clinical[col] = clinical[col].astype('Int64')\n",
        "  clinical['Patient_ID'] = clinical['PATIENT_ID'] + '-01' # for linkage\n",
        "  return clinical.set_index('Patient_ID')\n",
        "\n",
        "dtypes = {'Hugo_Symbol': 'string', 'Entrez_Gene_Id': 'string'}\n",
        "\n",
        "def read_cna_data(study_id):\n",
        "  return pd.read_table(study_id + '/data_cna.txt', dtype=dtypes)\n",
        "\n",
        "def read_expression_data(study_id):\n",
        "  return pd.read_table(\n",
        "      study_id + '/data_mrna_seq_v2_rsem_zscores_ref_all_samples.txt',\n",
        "      dtype = dtypes)\n",
        "\n",
        "def transpose_omic_data(df):\n",
        "  df_t = df.set_index(['Hugo_Symbol', 'Entrez_Gene_Id']).T\n",
        "  df_t.index.name = 'Patient_ID'\n",
        "  return df_t"
      ],
      "metadata": {
        "id": "jJZXnD1VQWMz"
      },
      "execution_count": null,
      "outputs": []
    },
    {
      "cell_type": "markdown",
      "source": [
        "Let's import the data."
      ],
      "metadata": {
        "id": "67gM3En_3KWB"
      }
    },
    {
      "cell_type": "code",
      "source": [
        "# Get the clinical data, including patient outcomes\n",
        "clinical = read_clinical_data(study_id)\n",
        "\n",
        "# Get the transcriptomics (RNAseq) data\n",
        "mrna = read_expression_data(study_id)\n",
        "mrna = transpose_omic_data(mrna)\n",
        "\n",
        "# Get the Copy Number Alterations data\n",
        "cna = read_cna_data(study_id)\n",
        "cna = transpose_omic_data(cna)"
      ],
      "metadata": {
        "id": "umIaNFJaIzrv"
      },
      "execution_count": null,
      "outputs": []
    },
    {
      "cell_type": "markdown",
      "source": [
        "Check for missing values."
      ],
      "metadata": {
        "id": "sk2c3pZs9BPs"
      }
    },
    {
      "cell_type": "code",
      "source": [
        "def preprocess_data(df):\n",
        "  # Drop columns with missingness\n",
        "  df = df.dropna(axis=1)\n",
        "  return df\n",
        "\n",
        "preprocess_data(mrna)\n",
        "mrna"
      ],
      "metadata": {
        "colab": {
          "base_uri": "https://localhost:8080/",
          "height": 486
        },
        "id": "BSe5HLEZ9DHc",
        "outputId": "c5f9a1bb-3279-4051-eb2e-488e71a0fd23"
      },
      "execution_count": null,
      "outputs": [
        {
          "output_type": "execute_result",
          "data": {
            "text/plain": [
              "Hugo_Symbol          <NA>            UBE2Q2P2 HMGB1P1    <NA>          \\\n",
              "Entrez_Gene_Id  100130426 100133144 100134869   10357   10431  155060   \n",
              "Patient_ID                                                              \n",
              "TCGA-2A-A8VL-01   -3.9250    0.9961    0.2808 -0.6698  1.5187  0.4726   \n",
              "TCGA-2A-A8VO-01   -3.9250    0.8972   -0.0291 -1.5009 -0.0310  0.7544   \n",
              "TCGA-2A-A8VT-01   -3.9250    2.2028    2.0529 -0.1843 -1.4942  1.7714   \n",
              "TCGA-2A-A8VV-01   -3.9250    1.0604    0.2002  0.2431  0.1970  0.0339   \n",
              "TCGA-2A-A8VX-01   -3.9250   -1.4829   -0.6803 -0.1020 -0.1675  0.5177   \n",
              "...                   ...       ...       ...     ...     ...     ...   \n",
              "TCGA-QU-A6IL-01   -3.9250    0.7901   -2.1185 -0.7843  0.2891  1.6776   \n",
              "TCGA-QU-A6IM-01   -3.9250    1.9255   -4.0599 -2.5256  0.5977  0.9925   \n",
              "TCGA-QU-A6IN-01   -0.2381   -2.8149   -0.0429  0.0777  1.4064  0.6638   \n",
              "TCGA-QU-A6IO-01   -3.9250   -2.8149   -1.7740 -1.6297  0.8572  1.3956   \n",
              "TCGA-QU-A6IP-01   -3.9250    0.4277    0.0074  0.8809 -1.2377 -0.1107   \n",
              "\n",
              "Hugo_Symbol     RNU12-2P   EZHIP  EFCAB8 SRP14P1  ...  ZWILCH   ZWINT    ZXDA  \\\n",
              "Entrez_Gene_Id     26823  340602  388795  390284  ...   55055   11130    7789   \n",
              "Patient_ID                                        ...                           \n",
              "TCGA-2A-A8VL-01  -1.8207 -0.7257 -0.7396  0.5098  ... -0.3388 -0.9943 -0.4822   \n",
              "TCGA-2A-A8VO-01  -1.8207 -0.4969  2.4261 -0.0926  ... -0.5077  0.4074 -0.8093   \n",
              "TCGA-2A-A8VT-01   0.6468 -0.9740 -0.4385 -1.5329  ... -0.5012 -0.6473  1.6314   \n",
              "TCGA-2A-A8VV-01  -1.8207  1.2032 -0.8054  0.0868  ... -0.0608 -0.3514 -0.6495   \n",
              "TCGA-2A-A8VX-01  -1.8207 -1.7339 -0.7559 -0.7974  ...  1.5470  0.8446 -2.1341   \n",
              "...                  ...     ...     ...     ...  ...     ...     ...     ...   \n",
              "TCGA-QU-A6IL-01  -1.5181 -1.7339  2.9465 -2.2980  ... -0.7664 -0.2704 -3.0758   \n",
              "TCGA-QU-A6IM-01   3.3658  2.2315 -1.6605  0.0510  ... -1.4491 -0.5470 -0.5279   \n",
              "TCGA-QU-A6IN-01   1.1729 -1.7339  0.2855 -2.5453  ... -0.4354 -1.0692 -1.1372   \n",
              "TCGA-QU-A6IO-01  -1.5181 -1.7339  0.5266 -2.0180  ... -1.0078 -0.8273 -1.0757   \n",
              "TCGA-QU-A6IP-01  -1.5181  0.2884 -1.6605  1.3419  ... -0.1583  0.2351  0.3339   \n",
              "\n",
              "Hugo_Symbol        ZXDB    ZXDC  ZYG11A  ZYG11B     ZYX   ZZEF1    ZZZ3  \n",
              "Entrez_Gene_Id   158586   79364  440590   79699    7791   23140   26009  \n",
              "Patient_ID                                                               \n",
              "TCGA-2A-A8VL-01 -1.4010 -0.0668 -0.5152 -0.9247 -0.1804  0.7221 -1.7267  \n",
              "TCGA-2A-A8VO-01 -0.3129 -1.0530  1.1311 -0.5927  0.1804 -1.0429 -0.8300  \n",
              "TCGA-2A-A8VT-01  1.3083  2.2305 -0.3449  1.1050 -1.0783  1.7868  2.0489  \n",
              "TCGA-2A-A8VV-01  0.0283 -0.4782  0.0658 -1.3796  0.4464 -0.4486  1.0313  \n",
              "TCGA-2A-A8VX-01 -0.5554 -0.5875  1.1058 -0.8375 -0.2113 -1.1054 -0.2218  \n",
              "...                 ...     ...     ...     ...     ...     ...     ...  \n",
              "TCGA-QU-A6IL-01 -0.1841 -0.3960 -0.0478 -0.8779 -0.3305 -0.7006  0.9492  \n",
              "TCGA-QU-A6IM-01 -2.4639 -2.4755 -0.8118 -0.9032  0.5063  0.0355 -0.9174  \n",
              "TCGA-QU-A6IN-01 -0.3544  1.1911 -0.0200 -0.8794 -0.9727  0.1205  0.6201  \n",
              "TCGA-QU-A6IO-01 -1.2589  0.0773 -0.2031 -1.0870 -0.0718 -0.6685 -1.7188  \n",
              "TCGA-QU-A6IP-01  1.2292  0.8662 -1.0269  1.5055 -0.0918  0.6088  0.8540  \n",
              "\n",
              "[493 rows x 19088 columns]"
            ],
            "text/html": [
              "\n",
              "  <div id=\"df-1e2696d8-432b-444a-b29a-a53b7f840f99\" class=\"colab-df-container\">\n",
              "    <div>\n",
              "<style scoped>\n",
              "    .dataframe tbody tr th:only-of-type {\n",
              "        vertical-align: middle;\n",
              "    }\n",
              "\n",
              "    .dataframe tbody tr th {\n",
              "        vertical-align: top;\n",
              "    }\n",
              "\n",
              "    .dataframe thead tr th {\n",
              "        text-align: left;\n",
              "    }\n",
              "\n",
              "    .dataframe thead tr:last-of-type th {\n",
              "        text-align: right;\n",
              "    }\n",
              "</style>\n",
              "<table border=\"1\" class=\"dataframe\">\n",
              "  <thead>\n",
              "    <tr>\n",
              "      <th>Hugo_Symbol</th>\n",
              "      <th colspan=\"2\" halign=\"left\">&lt;NA&gt;</th>\n",
              "      <th>UBE2Q2P2</th>\n",
              "      <th>HMGB1P1</th>\n",
              "      <th colspan=\"2\" halign=\"left\">&lt;NA&gt;</th>\n",
              "      <th>RNU12-2P</th>\n",
              "      <th>EZHIP</th>\n",
              "      <th>EFCAB8</th>\n",
              "      <th>SRP14P1</th>\n",
              "      <th>...</th>\n",
              "      <th>ZWILCH</th>\n",
              "      <th>ZWINT</th>\n",
              "      <th>ZXDA</th>\n",
              "      <th>ZXDB</th>\n",
              "      <th>ZXDC</th>\n",
              "      <th>ZYG11A</th>\n",
              "      <th>ZYG11B</th>\n",
              "      <th>ZYX</th>\n",
              "      <th>ZZEF1</th>\n",
              "      <th>ZZZ3</th>\n",
              "    </tr>\n",
              "    <tr>\n",
              "      <th>Entrez_Gene_Id</th>\n",
              "      <th>100130426</th>\n",
              "      <th>100133144</th>\n",
              "      <th>100134869</th>\n",
              "      <th>10357</th>\n",
              "      <th>10431</th>\n",
              "      <th>155060</th>\n",
              "      <th>26823</th>\n",
              "      <th>340602</th>\n",
              "      <th>388795</th>\n",
              "      <th>390284</th>\n",
              "      <th>...</th>\n",
              "      <th>55055</th>\n",
              "      <th>11130</th>\n",
              "      <th>7789</th>\n",
              "      <th>158586</th>\n",
              "      <th>79364</th>\n",
              "      <th>440590</th>\n",
              "      <th>79699</th>\n",
              "      <th>7791</th>\n",
              "      <th>23140</th>\n",
              "      <th>26009</th>\n",
              "    </tr>\n",
              "    <tr>\n",
              "      <th>Patient_ID</th>\n",
              "      <th></th>\n",
              "      <th></th>\n",
              "      <th></th>\n",
              "      <th></th>\n",
              "      <th></th>\n",
              "      <th></th>\n",
              "      <th></th>\n",
              "      <th></th>\n",
              "      <th></th>\n",
              "      <th></th>\n",
              "      <th></th>\n",
              "      <th></th>\n",
              "      <th></th>\n",
              "      <th></th>\n",
              "      <th></th>\n",
              "      <th></th>\n",
              "      <th></th>\n",
              "      <th></th>\n",
              "      <th></th>\n",
              "      <th></th>\n",
              "      <th></th>\n",
              "    </tr>\n",
              "  </thead>\n",
              "  <tbody>\n",
              "    <tr>\n",
              "      <th>TCGA-2A-A8VL-01</th>\n",
              "      <td>-3.9250</td>\n",
              "      <td>0.9961</td>\n",
              "      <td>0.2808</td>\n",
              "      <td>-0.6698</td>\n",
              "      <td>1.5187</td>\n",
              "      <td>0.4726</td>\n",
              "      <td>-1.8207</td>\n",
              "      <td>-0.7257</td>\n",
              "      <td>-0.7396</td>\n",
              "      <td>0.5098</td>\n",
              "      <td>...</td>\n",
              "      <td>-0.3388</td>\n",
              "      <td>-0.9943</td>\n",
              "      <td>-0.4822</td>\n",
              "      <td>-1.4010</td>\n",
              "      <td>-0.0668</td>\n",
              "      <td>-0.5152</td>\n",
              "      <td>-0.9247</td>\n",
              "      <td>-0.1804</td>\n",
              "      <td>0.7221</td>\n",
              "      <td>-1.7267</td>\n",
              "    </tr>\n",
              "    <tr>\n",
              "      <th>TCGA-2A-A8VO-01</th>\n",
              "      <td>-3.9250</td>\n",
              "      <td>0.8972</td>\n",
              "      <td>-0.0291</td>\n",
              "      <td>-1.5009</td>\n",
              "      <td>-0.0310</td>\n",
              "      <td>0.7544</td>\n",
              "      <td>-1.8207</td>\n",
              "      <td>-0.4969</td>\n",
              "      <td>2.4261</td>\n",
              "      <td>-0.0926</td>\n",
              "      <td>...</td>\n",
              "      <td>-0.5077</td>\n",
              "      <td>0.4074</td>\n",
              "      <td>-0.8093</td>\n",
              "      <td>-0.3129</td>\n",
              "      <td>-1.0530</td>\n",
              "      <td>1.1311</td>\n",
              "      <td>-0.5927</td>\n",
              "      <td>0.1804</td>\n",
              "      <td>-1.0429</td>\n",
              "      <td>-0.8300</td>\n",
              "    </tr>\n",
              "    <tr>\n",
              "      <th>TCGA-2A-A8VT-01</th>\n",
              "      <td>-3.9250</td>\n",
              "      <td>2.2028</td>\n",
              "      <td>2.0529</td>\n",
              "      <td>-0.1843</td>\n",
              "      <td>-1.4942</td>\n",
              "      <td>1.7714</td>\n",
              "      <td>0.6468</td>\n",
              "      <td>-0.9740</td>\n",
              "      <td>-0.4385</td>\n",
              "      <td>-1.5329</td>\n",
              "      <td>...</td>\n",
              "      <td>-0.5012</td>\n",
              "      <td>-0.6473</td>\n",
              "      <td>1.6314</td>\n",
              "      <td>1.3083</td>\n",
              "      <td>2.2305</td>\n",
              "      <td>-0.3449</td>\n",
              "      <td>1.1050</td>\n",
              "      <td>-1.0783</td>\n",
              "      <td>1.7868</td>\n",
              "      <td>2.0489</td>\n",
              "    </tr>\n",
              "    <tr>\n",
              "      <th>TCGA-2A-A8VV-01</th>\n",
              "      <td>-3.9250</td>\n",
              "      <td>1.0604</td>\n",
              "      <td>0.2002</td>\n",
              "      <td>0.2431</td>\n",
              "      <td>0.1970</td>\n",
              "      <td>0.0339</td>\n",
              "      <td>-1.8207</td>\n",
              "      <td>1.2032</td>\n",
              "      <td>-0.8054</td>\n",
              "      <td>0.0868</td>\n",
              "      <td>...</td>\n",
              "      <td>-0.0608</td>\n",
              "      <td>-0.3514</td>\n",
              "      <td>-0.6495</td>\n",
              "      <td>0.0283</td>\n",
              "      <td>-0.4782</td>\n",
              "      <td>0.0658</td>\n",
              "      <td>-1.3796</td>\n",
              "      <td>0.4464</td>\n",
              "      <td>-0.4486</td>\n",
              "      <td>1.0313</td>\n",
              "    </tr>\n",
              "    <tr>\n",
              "      <th>TCGA-2A-A8VX-01</th>\n",
              "      <td>-3.9250</td>\n",
              "      <td>-1.4829</td>\n",
              "      <td>-0.6803</td>\n",
              "      <td>-0.1020</td>\n",
              "      <td>-0.1675</td>\n",
              "      <td>0.5177</td>\n",
              "      <td>-1.8207</td>\n",
              "      <td>-1.7339</td>\n",
              "      <td>-0.7559</td>\n",
              "      <td>-0.7974</td>\n",
              "      <td>...</td>\n",
              "      <td>1.5470</td>\n",
              "      <td>0.8446</td>\n",
              "      <td>-2.1341</td>\n",
              "      <td>-0.5554</td>\n",
              "      <td>-0.5875</td>\n",
              "      <td>1.1058</td>\n",
              "      <td>-0.8375</td>\n",
              "      <td>-0.2113</td>\n",
              "      <td>-1.1054</td>\n",
              "      <td>-0.2218</td>\n",
              "    </tr>\n",
              "    <tr>\n",
              "      <th>...</th>\n",
              "      <td>...</td>\n",
              "      <td>...</td>\n",
              "      <td>...</td>\n",
              "      <td>...</td>\n",
              "      <td>...</td>\n",
              "      <td>...</td>\n",
              "      <td>...</td>\n",
              "      <td>...</td>\n",
              "      <td>...</td>\n",
              "      <td>...</td>\n",
              "      <td>...</td>\n",
              "      <td>...</td>\n",
              "      <td>...</td>\n",
              "      <td>...</td>\n",
              "      <td>...</td>\n",
              "      <td>...</td>\n",
              "      <td>...</td>\n",
              "      <td>...</td>\n",
              "      <td>...</td>\n",
              "      <td>...</td>\n",
              "      <td>...</td>\n",
              "    </tr>\n",
              "    <tr>\n",
              "      <th>TCGA-QU-A6IL-01</th>\n",
              "      <td>-3.9250</td>\n",
              "      <td>0.7901</td>\n",
              "      <td>-2.1185</td>\n",
              "      <td>-0.7843</td>\n",
              "      <td>0.2891</td>\n",
              "      <td>1.6776</td>\n",
              "      <td>-1.5181</td>\n",
              "      <td>-1.7339</td>\n",
              "      <td>2.9465</td>\n",
              "      <td>-2.2980</td>\n",
              "      <td>...</td>\n",
              "      <td>-0.7664</td>\n",
              "      <td>-0.2704</td>\n",
              "      <td>-3.0758</td>\n",
              "      <td>-0.1841</td>\n",
              "      <td>-0.3960</td>\n",
              "      <td>-0.0478</td>\n",
              "      <td>-0.8779</td>\n",
              "      <td>-0.3305</td>\n",
              "      <td>-0.7006</td>\n",
              "      <td>0.9492</td>\n",
              "    </tr>\n",
              "    <tr>\n",
              "      <th>TCGA-QU-A6IM-01</th>\n",
              "      <td>-3.9250</td>\n",
              "      <td>1.9255</td>\n",
              "      <td>-4.0599</td>\n",
              "      <td>-2.5256</td>\n",
              "      <td>0.5977</td>\n",
              "      <td>0.9925</td>\n",
              "      <td>3.3658</td>\n",
              "      <td>2.2315</td>\n",
              "      <td>-1.6605</td>\n",
              "      <td>0.0510</td>\n",
              "      <td>...</td>\n",
              "      <td>-1.4491</td>\n",
              "      <td>-0.5470</td>\n",
              "      <td>-0.5279</td>\n",
              "      <td>-2.4639</td>\n",
              "      <td>-2.4755</td>\n",
              "      <td>-0.8118</td>\n",
              "      <td>-0.9032</td>\n",
              "      <td>0.5063</td>\n",
              "      <td>0.0355</td>\n",
              "      <td>-0.9174</td>\n",
              "    </tr>\n",
              "    <tr>\n",
              "      <th>TCGA-QU-A6IN-01</th>\n",
              "      <td>-0.2381</td>\n",
              "      <td>-2.8149</td>\n",
              "      <td>-0.0429</td>\n",
              "      <td>0.0777</td>\n",
              "      <td>1.4064</td>\n",
              "      <td>0.6638</td>\n",
              "      <td>1.1729</td>\n",
              "      <td>-1.7339</td>\n",
              "      <td>0.2855</td>\n",
              "      <td>-2.5453</td>\n",
              "      <td>...</td>\n",
              "      <td>-0.4354</td>\n",
              "      <td>-1.0692</td>\n",
              "      <td>-1.1372</td>\n",
              "      <td>-0.3544</td>\n",
              "      <td>1.1911</td>\n",
              "      <td>-0.0200</td>\n",
              "      <td>-0.8794</td>\n",
              "      <td>-0.9727</td>\n",
              "      <td>0.1205</td>\n",
              "      <td>0.6201</td>\n",
              "    </tr>\n",
              "    <tr>\n",
              "      <th>TCGA-QU-A6IO-01</th>\n",
              "      <td>-3.9250</td>\n",
              "      <td>-2.8149</td>\n",
              "      <td>-1.7740</td>\n",
              "      <td>-1.6297</td>\n",
              "      <td>0.8572</td>\n",
              "      <td>1.3956</td>\n",
              "      <td>-1.5181</td>\n",
              "      <td>-1.7339</td>\n",
              "      <td>0.5266</td>\n",
              "      <td>-2.0180</td>\n",
              "      <td>...</td>\n",
              "      <td>-1.0078</td>\n",
              "      <td>-0.8273</td>\n",
              "      <td>-1.0757</td>\n",
              "      <td>-1.2589</td>\n",
              "      <td>0.0773</td>\n",
              "      <td>-0.2031</td>\n",
              "      <td>-1.0870</td>\n",
              "      <td>-0.0718</td>\n",
              "      <td>-0.6685</td>\n",
              "      <td>-1.7188</td>\n",
              "    </tr>\n",
              "    <tr>\n",
              "      <th>TCGA-QU-A6IP-01</th>\n",
              "      <td>-3.9250</td>\n",
              "      <td>0.4277</td>\n",
              "      <td>0.0074</td>\n",
              "      <td>0.8809</td>\n",
              "      <td>-1.2377</td>\n",
              "      <td>-0.1107</td>\n",
              "      <td>-1.5181</td>\n",
              "      <td>0.2884</td>\n",
              "      <td>-1.6605</td>\n",
              "      <td>1.3419</td>\n",
              "      <td>...</td>\n",
              "      <td>-0.1583</td>\n",
              "      <td>0.2351</td>\n",
              "      <td>0.3339</td>\n",
              "      <td>1.2292</td>\n",
              "      <td>0.8662</td>\n",
              "      <td>-1.0269</td>\n",
              "      <td>1.5055</td>\n",
              "      <td>-0.0918</td>\n",
              "      <td>0.6088</td>\n",
              "      <td>0.8540</td>\n",
              "    </tr>\n",
              "  </tbody>\n",
              "</table>\n",
              "<p>493 rows × 19088 columns</p>\n",
              "</div>\n",
              "    <div class=\"colab-df-buttons\">\n",
              "\n",
              "  <div class=\"colab-df-container\">\n",
              "    <button class=\"colab-df-convert\" onclick=\"convertToInteractive('df-1e2696d8-432b-444a-b29a-a53b7f840f99')\"\n",
              "            title=\"Convert this dataframe to an interactive table.\"\n",
              "            style=\"display:none;\">\n",
              "\n",
              "  <svg xmlns=\"http://www.w3.org/2000/svg\" height=\"24px\" viewBox=\"0 -960 960 960\">\n",
              "    <path d=\"M120-120v-720h720v720H120Zm60-500h600v-160H180v160Zm220 220h160v-160H400v160Zm0 220h160v-160H400v160ZM180-400h160v-160H180v160Zm440 0h160v-160H620v160ZM180-180h160v-160H180v160Zm440 0h160v-160H620v160Z\"/>\n",
              "  </svg>\n",
              "    </button>\n",
              "\n",
              "  <style>\n",
              "    .colab-df-container {\n",
              "      display:flex;\n",
              "      gap: 12px;\n",
              "    }\n",
              "\n",
              "    .colab-df-convert {\n",
              "      background-color: #E8F0FE;\n",
              "      border: none;\n",
              "      border-radius: 50%;\n",
              "      cursor: pointer;\n",
              "      display: none;\n",
              "      fill: #1967D2;\n",
              "      height: 32px;\n",
              "      padding: 0 0 0 0;\n",
              "      width: 32px;\n",
              "    }\n",
              "\n",
              "    .colab-df-convert:hover {\n",
              "      background-color: #E2EBFA;\n",
              "      box-shadow: 0px 1px 2px rgba(60, 64, 67, 0.3), 0px 1px 3px 1px rgba(60, 64, 67, 0.15);\n",
              "      fill: #174EA6;\n",
              "    }\n",
              "\n",
              "    .colab-df-buttons div {\n",
              "      margin-bottom: 4px;\n",
              "    }\n",
              "\n",
              "    [theme=dark] .colab-df-convert {\n",
              "      background-color: #3B4455;\n",
              "      fill: #D2E3FC;\n",
              "    }\n",
              "\n",
              "    [theme=dark] .colab-df-convert:hover {\n",
              "      background-color: #434B5C;\n",
              "      box-shadow: 0px 1px 3px 1px rgba(0, 0, 0, 0.15);\n",
              "      filter: drop-shadow(0px 1px 2px rgba(0, 0, 0, 0.3));\n",
              "      fill: #FFFFFF;\n",
              "    }\n",
              "  </style>\n",
              "\n",
              "    <script>\n",
              "      const buttonEl =\n",
              "        document.querySelector('#df-1e2696d8-432b-444a-b29a-a53b7f840f99 button.colab-df-convert');\n",
              "      buttonEl.style.display =\n",
              "        google.colab.kernel.accessAllowed ? 'block' : 'none';\n",
              "\n",
              "      async function convertToInteractive(key) {\n",
              "        const element = document.querySelector('#df-1e2696d8-432b-444a-b29a-a53b7f840f99');\n",
              "        const dataTable =\n",
              "          await google.colab.kernel.invokeFunction('convertToInteractive',\n",
              "                                                    [key], {});\n",
              "        if (!dataTable) return;\n",
              "\n",
              "        const docLinkHtml = 'Like what you see? Visit the ' +\n",
              "          '<a target=\"_blank\" href=https://colab.research.google.com/notebooks/data_table.ipynb>data table notebook</a>'\n",
              "          + ' to learn more about interactive tables.';\n",
              "        element.innerHTML = '';\n",
              "        dataTable['output_type'] = 'display_data';\n",
              "        await google.colab.output.renderOutput(dataTable, element);\n",
              "        const docLink = document.createElement('div');\n",
              "        docLink.innerHTML = docLinkHtml;\n",
              "        element.appendChild(docLink);\n",
              "      }\n",
              "    </script>\n",
              "  </div>\n",
              "\n",
              "\n",
              "<div id=\"df-ece456ab-2931-4ca7-9f36-3b3516f91497\">\n",
              "  <button class=\"colab-df-quickchart\" onclick=\"quickchart('df-ece456ab-2931-4ca7-9f36-3b3516f91497')\"\n",
              "            title=\"Suggest charts\"\n",
              "            style=\"display:none;\">\n",
              "\n",
              "<svg xmlns=\"http://www.w3.org/2000/svg\" height=\"24px\"viewBox=\"0 0 24 24\"\n",
              "     width=\"24px\">\n",
              "    <g>\n",
              "        <path d=\"M19 3H5c-1.1 0-2 .9-2 2v14c0 1.1.9 2 2 2h14c1.1 0 2-.9 2-2V5c0-1.1-.9-2-2-2zM9 17H7v-7h2v7zm4 0h-2V7h2v10zm4 0h-2v-4h2v4z\"/>\n",
              "    </g>\n",
              "</svg>\n",
              "  </button>\n",
              "\n",
              "<style>\n",
              "  .colab-df-quickchart {\n",
              "      --bg-color: #E8F0FE;\n",
              "      --fill-color: #1967D2;\n",
              "      --hover-bg-color: #E2EBFA;\n",
              "      --hover-fill-color: #174EA6;\n",
              "      --disabled-fill-color: #AAA;\n",
              "      --disabled-bg-color: #DDD;\n",
              "  }\n",
              "\n",
              "  [theme=dark] .colab-df-quickchart {\n",
              "      --bg-color: #3B4455;\n",
              "      --fill-color: #D2E3FC;\n",
              "      --hover-bg-color: #434B5C;\n",
              "      --hover-fill-color: #FFFFFF;\n",
              "      --disabled-bg-color: #3B4455;\n",
              "      --disabled-fill-color: #666;\n",
              "  }\n",
              "\n",
              "  .colab-df-quickchart {\n",
              "    background-color: var(--bg-color);\n",
              "    border: none;\n",
              "    border-radius: 50%;\n",
              "    cursor: pointer;\n",
              "    display: none;\n",
              "    fill: var(--fill-color);\n",
              "    height: 32px;\n",
              "    padding: 0;\n",
              "    width: 32px;\n",
              "  }\n",
              "\n",
              "  .colab-df-quickchart:hover {\n",
              "    background-color: var(--hover-bg-color);\n",
              "    box-shadow: 0 1px 2px rgba(60, 64, 67, 0.3), 0 1px 3px 1px rgba(60, 64, 67, 0.15);\n",
              "    fill: var(--button-hover-fill-color);\n",
              "  }\n",
              "\n",
              "  .colab-df-quickchart-complete:disabled,\n",
              "  .colab-df-quickchart-complete:disabled:hover {\n",
              "    background-color: var(--disabled-bg-color);\n",
              "    fill: var(--disabled-fill-color);\n",
              "    box-shadow: none;\n",
              "  }\n",
              "\n",
              "  .colab-df-spinner {\n",
              "    border: 2px solid var(--fill-color);\n",
              "    border-color: transparent;\n",
              "    border-bottom-color: var(--fill-color);\n",
              "    animation:\n",
              "      spin 1s steps(1) infinite;\n",
              "  }\n",
              "\n",
              "  @keyframes spin {\n",
              "    0% {\n",
              "      border-color: transparent;\n",
              "      border-bottom-color: var(--fill-color);\n",
              "      border-left-color: var(--fill-color);\n",
              "    }\n",
              "    20% {\n",
              "      border-color: transparent;\n",
              "      border-left-color: var(--fill-color);\n",
              "      border-top-color: var(--fill-color);\n",
              "    }\n",
              "    30% {\n",
              "      border-color: transparent;\n",
              "      border-left-color: var(--fill-color);\n",
              "      border-top-color: var(--fill-color);\n",
              "      border-right-color: var(--fill-color);\n",
              "    }\n",
              "    40% {\n",
              "      border-color: transparent;\n",
              "      border-right-color: var(--fill-color);\n",
              "      border-top-color: var(--fill-color);\n",
              "    }\n",
              "    60% {\n",
              "      border-color: transparent;\n",
              "      border-right-color: var(--fill-color);\n",
              "    }\n",
              "    80% {\n",
              "      border-color: transparent;\n",
              "      border-right-color: var(--fill-color);\n",
              "      border-bottom-color: var(--fill-color);\n",
              "    }\n",
              "    90% {\n",
              "      border-color: transparent;\n",
              "      border-bottom-color: var(--fill-color);\n",
              "    }\n",
              "  }\n",
              "</style>\n",
              "\n",
              "  <script>\n",
              "    async function quickchart(key) {\n",
              "      const quickchartButtonEl =\n",
              "        document.querySelector('#' + key + ' button');\n",
              "      quickchartButtonEl.disabled = true;  // To prevent multiple clicks.\n",
              "      quickchartButtonEl.classList.add('colab-df-spinner');\n",
              "      try {\n",
              "        const charts = await google.colab.kernel.invokeFunction(\n",
              "            'suggestCharts', [key], {});\n",
              "      } catch (error) {\n",
              "        console.error('Error during call to suggestCharts:', error);\n",
              "      }\n",
              "      quickchartButtonEl.classList.remove('colab-df-spinner');\n",
              "      quickchartButtonEl.classList.add('colab-df-quickchart-complete');\n",
              "    }\n",
              "    (() => {\n",
              "      let quickchartButtonEl =\n",
              "        document.querySelector('#df-ece456ab-2931-4ca7-9f36-3b3516f91497 button');\n",
              "      quickchartButtonEl.style.display =\n",
              "        google.colab.kernel.accessAllowed ? 'block' : 'none';\n",
              "    })();\n",
              "  </script>\n",
              "</div>\n",
              "\n",
              "    </div>\n",
              "  </div>\n"
            ],
            "application/vnd.google.colaboratory.intrinsic+json": {
              "type": "dataframe"
            }
          },
          "metadata": {},
          "execution_count": 61
        }
      ]
    },
    {
      "cell_type": "code",
      "source": [
        "import numpy as np\n",
        "\n",
        "def filter_most_varying_genes(df, threshold=0.8):\n",
        "  std_devs = df.std()\n",
        "  cutoff = np.percentile(std_devs, threshold * 100)\n",
        "  selected_genes = std_devs[std_devs >= cutoff].index\n",
        "  return selected_genes\n",
        "\n",
        "mrna.std()"
      ],
      "metadata": {
        "colab": {
          "base_uri": "https://localhost:8080/",
          "height": 489
        },
        "id": "f_AR8cYY8HWN",
        "outputId": "d84b0977-eb7b-49d7-f473-455d28c801a9"
      },
      "execution_count": null,
      "outputs": [
        {
          "output_type": "execute_result",
          "data": {
            "text/plain": [
              "Hugo_Symbol  Entrez_Gene_Id\n",
              "<NA>         100130426         0.891023\n",
              "             100133144         1.055346\n",
              "UBE2Q2P2     100134869         1.031844\n",
              "HMGB1P1      10357             1.001014\n",
              "<NA>         10431             1.001014\n",
              "                                 ...   \n",
              "ZYG11A       440590            1.001016\n",
              "ZYG11B       79699             1.001015\n",
              "ZYX          7791              1.001015\n",
              "ZZEF1        23140             1.001016\n",
              "ZZZ3         26009             1.001016\n",
              "Length: 20531, dtype: float64"
            ],
            "text/html": [
              "<div>\n",
              "<style scoped>\n",
              "    .dataframe tbody tr th:only-of-type {\n",
              "        vertical-align: middle;\n",
              "    }\n",
              "\n",
              "    .dataframe tbody tr th {\n",
              "        vertical-align: top;\n",
              "    }\n",
              "\n",
              "    .dataframe thead th {\n",
              "        text-align: right;\n",
              "    }\n",
              "</style>\n",
              "<table border=\"1\" class=\"dataframe\">\n",
              "  <thead>\n",
              "    <tr style=\"text-align: right;\">\n",
              "      <th></th>\n",
              "      <th></th>\n",
              "      <th>0</th>\n",
              "    </tr>\n",
              "    <tr>\n",
              "      <th>Hugo_Symbol</th>\n",
              "      <th>Entrez_Gene_Id</th>\n",
              "      <th></th>\n",
              "    </tr>\n",
              "  </thead>\n",
              "  <tbody>\n",
              "    <tr>\n",
              "      <th rowspan=\"2\" valign=\"top\">&lt;NA&gt;</th>\n",
              "      <th>100130426</th>\n",
              "      <td>0.891023</td>\n",
              "    </tr>\n",
              "    <tr>\n",
              "      <th>100133144</th>\n",
              "      <td>1.055346</td>\n",
              "    </tr>\n",
              "    <tr>\n",
              "      <th>UBE2Q2P2</th>\n",
              "      <th>100134869</th>\n",
              "      <td>1.031844</td>\n",
              "    </tr>\n",
              "    <tr>\n",
              "      <th>HMGB1P1</th>\n",
              "      <th>10357</th>\n",
              "      <td>1.001014</td>\n",
              "    </tr>\n",
              "    <tr>\n",
              "      <th>&lt;NA&gt;</th>\n",
              "      <th>10431</th>\n",
              "      <td>1.001014</td>\n",
              "    </tr>\n",
              "    <tr>\n",
              "      <th>...</th>\n",
              "      <th>...</th>\n",
              "      <td>...</td>\n",
              "    </tr>\n",
              "    <tr>\n",
              "      <th>ZYG11A</th>\n",
              "      <th>440590</th>\n",
              "      <td>1.001016</td>\n",
              "    </tr>\n",
              "    <tr>\n",
              "      <th>ZYG11B</th>\n",
              "      <th>79699</th>\n",
              "      <td>1.001015</td>\n",
              "    </tr>\n",
              "    <tr>\n",
              "      <th>ZYX</th>\n",
              "      <th>7791</th>\n",
              "      <td>1.001015</td>\n",
              "    </tr>\n",
              "    <tr>\n",
              "      <th>ZZEF1</th>\n",
              "      <th>23140</th>\n",
              "      <td>1.001016</td>\n",
              "    </tr>\n",
              "    <tr>\n",
              "      <th>ZZZ3</th>\n",
              "      <th>26009</th>\n",
              "      <td>1.001016</td>\n",
              "    </tr>\n",
              "  </tbody>\n",
              "</table>\n",
              "<p>20531 rows × 1 columns</p>\n",
              "</div><br><label><b>dtype:</b> float64</label>"
            ]
          },
          "metadata": {},
          "execution_count": 36
        }
      ]
    },
    {
      "cell_type": "code",
      "source": [
        "cna_varying_genes"
      ],
      "metadata": {
        "colab": {
          "base_uri": "https://localhost:8080/"
        },
        "id": "DgSBp58f8kV6",
        "outputId": "36d097d3-ef08-40c4-8e8a-bce5dbdfaf9d"
      },
      "execution_count": null,
      "outputs": [
        {
          "output_type": "execute_result",
          "data": {
            "text/plain": [
              "MultiIndex([(          'RHOU',     '58480'),\n",
              "            (        'ABCB10',     '23456'),\n",
              "            (         'TTC13',     '79573'),\n",
              "            (          'ARV1',     '64801'),\n",
              "            (        'FAM89A',    '375061'),\n",
              "            (       'MIR1182', '100302132'),\n",
              "            (        'TRIM67',    '440730'),\n",
              "            (    'TRIM67-AS1',    '149373'),\n",
              "            (      'C1orf131',    '128061'),\n",
              "            (   'TSNAX-DISC1', '100303453'),\n",
              "            ...\n",
              "            ('hsa-mir-1302-7',        <NA>),\n",
              "            (   'hsa-mir-606',        <NA>),\n",
              "            (   'hsa-mir-607',        <NA>),\n",
              "            ('hsa-mir-3158-1',        <NA>),\n",
              "            ('hsa-mir-1244-3',        <NA>),\n",
              "            (  'hsa-mir-3168',        <NA>),\n",
              "            (  'hsa-mir-1267',        <NA>),\n",
              "            (  'hsa-mir-1826',        <NA>),\n",
              "            (  'hsa-mir-3181',        <NA>),\n",
              "            (   'hsa-mir-924',        <NA>)],\n",
              "           names=['Hugo_Symbol', 'Entrez_Gene_Id'], length=5027)"
            ]
          },
          "metadata": {},
          "execution_count": 35
        }
      ]
    },
    {
      "cell_type": "code",
      "source": [
        "mrna_varying_genes"
      ],
      "metadata": {
        "colab": {
          "base_uri": "https://localhost:8080/"
        },
        "id": "nqnFfvu88iTI",
        "outputId": "ca584150-54e3-4b54-f8fb-350c09d24307"
      },
      "execution_count": null,
      "outputs": [
        {
          "output_type": "execute_result",
          "data": {
            "text/plain": [
              "MultiIndex([], names=['Hugo_Symbol', 'Entrez_Gene_Id'])"
            ]
          },
          "metadata": {},
          "execution_count": 34
        }
      ]
    },
    {
      "cell_type": "markdown",
      "source": [
        "Entrez and Hugo IDs are a little inconsistent in TCGA data. Let's get a mapping from one to another."
      ],
      "metadata": {
        "id": "G75PqbO057-Z"
      }
    },
    {
      "cell_type": "markdown",
      "source": [
        "We can throw away various features we are not interested in, for example genes that hardly vary among the cohort."
      ],
      "metadata": {
        "id": "Vm2hfaGQ5KRD"
      }
    },
    {
      "cell_type": "code",
      "source": [],
      "metadata": {
        "id": "5qwohCXy5TPw"
      },
      "execution_count": null,
      "outputs": []
    },
    {
      "cell_type": "markdown",
      "source": [
        "## Standard ML multi-omics integration\n",
        "\n"
      ],
      "metadata": {
        "id": "LvWIT9O63q_6"
      }
    },
    {
      "cell_type": "code",
      "source": [
        "mrna.columns = mrna.columns.droplevel(0)\n",
        "mrna"
      ],
      "metadata": {
        "colab": {
          "base_uri": "https://localhost:8080/",
          "height": 317
        },
        "id": "m_YqtbYP4Tug",
        "outputId": "fcab31f6-2b9a-4c90-ac0b-3f67c1ed3b08"
      },
      "execution_count": null,
      "outputs": [
        {
          "output_type": "error",
          "ename": "ValueError",
          "evalue": "Cannot remove 1 levels from an index with 1 levels: at least one level must be left.",
          "traceback": [
            "\u001b[0;31m---------------------------------------------------------------------------\u001b[0m",
            "\u001b[0;31mValueError\u001b[0m                                Traceback (most recent call last)",
            "\u001b[0;32m<ipython-input-21-f976ae93e8db>\u001b[0m in \u001b[0;36m<cell line: 0>\u001b[0;34m()\u001b[0m\n\u001b[0;32m----> 1\u001b[0;31m \u001b[0mmrna\u001b[0m\u001b[0;34m.\u001b[0m\u001b[0mcolumns\u001b[0m \u001b[0;34m=\u001b[0m \u001b[0mmrna\u001b[0m\u001b[0;34m.\u001b[0m\u001b[0mcolumns\u001b[0m\u001b[0;34m.\u001b[0m\u001b[0mdroplevel\u001b[0m\u001b[0;34m(\u001b[0m\u001b[0;36m0\u001b[0m\u001b[0;34m)\u001b[0m\u001b[0;34m\u001b[0m\u001b[0;34m\u001b[0m\u001b[0m\n\u001b[0m\u001b[1;32m      2\u001b[0m \u001b[0mmrna\u001b[0m\u001b[0;34m\u001b[0m\u001b[0;34m\u001b[0m\u001b[0m\n",
            "\u001b[0;32m/usr/local/lib/python3.11/dist-packages/pandas/core/indexes/base.py\u001b[0m in \u001b[0;36mdroplevel\u001b[0;34m(self, level)\u001b[0m\n\u001b[1;32m   2155\u001b[0m         \u001b[0mlevnums\u001b[0m \u001b[0;34m=\u001b[0m \u001b[0msorted\u001b[0m\u001b[0;34m(\u001b[0m\u001b[0mself\u001b[0m\u001b[0;34m.\u001b[0m\u001b[0m_get_level_number\u001b[0m\u001b[0;34m(\u001b[0m\u001b[0mlev\u001b[0m\u001b[0;34m)\u001b[0m \u001b[0;32mfor\u001b[0m \u001b[0mlev\u001b[0m \u001b[0;32min\u001b[0m \u001b[0mlevel\u001b[0m\u001b[0;34m)\u001b[0m\u001b[0;34m[\u001b[0m\u001b[0;34m:\u001b[0m\u001b[0;34m:\u001b[0m\u001b[0;34m-\u001b[0m\u001b[0;36m1\u001b[0m\u001b[0;34m]\u001b[0m\u001b[0;34m\u001b[0m\u001b[0;34m\u001b[0m\u001b[0m\n\u001b[1;32m   2156\u001b[0m \u001b[0;34m\u001b[0m\u001b[0m\n\u001b[0;32m-> 2157\u001b[0;31m         \u001b[0;32mreturn\u001b[0m \u001b[0mself\u001b[0m\u001b[0;34m.\u001b[0m\u001b[0m_drop_level_numbers\u001b[0m\u001b[0;34m(\u001b[0m\u001b[0mlevnums\u001b[0m\u001b[0;34m)\u001b[0m\u001b[0;34m\u001b[0m\u001b[0;34m\u001b[0m\u001b[0m\n\u001b[0m\u001b[1;32m   2158\u001b[0m \u001b[0;34m\u001b[0m\u001b[0m\n\u001b[1;32m   2159\u001b[0m     \u001b[0;34m@\u001b[0m\u001b[0mfinal\u001b[0m\u001b[0;34m\u001b[0m\u001b[0;34m\u001b[0m\u001b[0m\n",
            "\u001b[0;32m/usr/local/lib/python3.11/dist-packages/pandas/core/indexes/base.py\u001b[0m in \u001b[0;36m_drop_level_numbers\u001b[0;34m(self, levnums)\u001b[0m\n\u001b[1;32m   2166\u001b[0m             \u001b[0;32mreturn\u001b[0m \u001b[0mself\u001b[0m\u001b[0;34m\u001b[0m\u001b[0;34m\u001b[0m\u001b[0m\n\u001b[1;32m   2167\u001b[0m         \u001b[0;32mif\u001b[0m \u001b[0mlen\u001b[0m\u001b[0;34m(\u001b[0m\u001b[0mlevnums\u001b[0m\u001b[0;34m)\u001b[0m \u001b[0;34m>=\u001b[0m \u001b[0mself\u001b[0m\u001b[0;34m.\u001b[0m\u001b[0mnlevels\u001b[0m\u001b[0;34m:\u001b[0m\u001b[0;34m\u001b[0m\u001b[0;34m\u001b[0m\u001b[0m\n\u001b[0;32m-> 2168\u001b[0;31m             raise ValueError(\n\u001b[0m\u001b[1;32m   2169\u001b[0m                 \u001b[0;34mf\"Cannot remove {len(levnums)} levels from an index with \"\u001b[0m\u001b[0;34m\u001b[0m\u001b[0;34m\u001b[0m\u001b[0m\n\u001b[1;32m   2170\u001b[0m                 \u001b[0;34mf\"{self.nlevels} levels: at least one level must be left.\"\u001b[0m\u001b[0;34m\u001b[0m\u001b[0;34m\u001b[0m\u001b[0m\n",
            "\u001b[0;31mValueError\u001b[0m: Cannot remove 1 levels from an index with 1 levels: at least one level must be left."
          ]
        }
      ]
    },
    {
      "cell_type": "markdown",
      "source": [
        "To integrate the data, we only include patients for whom can link all three data sources."
      ],
      "metadata": {
        "id": "6Pm44wFs2JaU"
      }
    },
    {
      "cell_type": "code",
      "source": [
        "merged_data = clinical.join(mrna, how = 'inner')"
      ],
      "metadata": {
        "colab": {
          "base_uri": "https://localhost:8080/",
          "height": 298
        },
        "id": "1lWzD8GsM_LE",
        "outputId": "d0e81e5d-1203-488e-b317-84da45b4cda9"
      },
      "execution_count": null,
      "outputs": [
        {
          "output_type": "error",
          "ename": "MergeError",
          "evalue": "Not allowed to merge between different levels. (1 levels on the left, 2 on the right)",
          "traceback": [
            "\u001b[0;31m---------------------------------------------------------------------------\u001b[0m",
            "\u001b[0;31mMergeError\u001b[0m                                Traceback (most recent call last)",
            "\u001b[0;32m<ipython-input-15-67e50b475198>\u001b[0m in \u001b[0;36m<cell line: 0>\u001b[0;34m()\u001b[0m\n\u001b[0;32m----> 1\u001b[0;31m \u001b[0mmerged_data\u001b[0m \u001b[0;34m=\u001b[0m \u001b[0mclinical\u001b[0m\u001b[0;34m.\u001b[0m\u001b[0mjoin\u001b[0m\u001b[0;34m(\u001b[0m\u001b[0mmrna\u001b[0m\u001b[0;34m,\u001b[0m \u001b[0mhow\u001b[0m \u001b[0;34m=\u001b[0m \u001b[0;34m'inner'\u001b[0m\u001b[0;34m)\u001b[0m\u001b[0;34m\u001b[0m\u001b[0;34m\u001b[0m\u001b[0m\n\u001b[0m",
            "\u001b[0;32m/usr/local/lib/python3.11/dist-packages/pandas/core/frame.py\u001b[0m in \u001b[0;36mjoin\u001b[0;34m(self, other, on, how, lsuffix, rsuffix, sort, validate)\u001b[0m\n\u001b[1;32m  10755\u001b[0m                     \u001b[0mvalidate\u001b[0m\u001b[0;34m=\u001b[0m\u001b[0mvalidate\u001b[0m\u001b[0;34m,\u001b[0m\u001b[0;34m\u001b[0m\u001b[0;34m\u001b[0m\u001b[0m\n\u001b[1;32m  10756\u001b[0m                 )\n\u001b[0;32m> 10757\u001b[0;31m             return merge(\n\u001b[0m\u001b[1;32m  10758\u001b[0m                 \u001b[0mself\u001b[0m\u001b[0;34m,\u001b[0m\u001b[0;34m\u001b[0m\u001b[0;34m\u001b[0m\u001b[0m\n\u001b[1;32m  10759\u001b[0m                 \u001b[0mother\u001b[0m\u001b[0;34m,\u001b[0m\u001b[0;34m\u001b[0m\u001b[0;34m\u001b[0m\u001b[0m\n",
            "\u001b[0;32m/usr/local/lib/python3.11/dist-packages/pandas/core/reshape/merge.py\u001b[0m in \u001b[0;36mmerge\u001b[0;34m(left, right, how, on, left_on, right_on, left_index, right_index, sort, suffixes, copy, indicator, validate)\u001b[0m\n\u001b[1;32m    168\u001b[0m         )\n\u001b[1;32m    169\u001b[0m     \u001b[0;32melse\u001b[0m\u001b[0;34m:\u001b[0m\u001b[0;34m\u001b[0m\u001b[0;34m\u001b[0m\u001b[0m\n\u001b[0;32m--> 170\u001b[0;31m         op = _MergeOperation(\n\u001b[0m\u001b[1;32m    171\u001b[0m             \u001b[0mleft_df\u001b[0m\u001b[0;34m,\u001b[0m\u001b[0;34m\u001b[0m\u001b[0;34m\u001b[0m\u001b[0m\n\u001b[1;32m    172\u001b[0m             \u001b[0mright_df\u001b[0m\u001b[0;34m,\u001b[0m\u001b[0;34m\u001b[0m\u001b[0;34m\u001b[0m\u001b[0m\n",
            "\u001b[0;32m/usr/local/lib/python3.11/dist-packages/pandas/core/reshape/merge.py\u001b[0m in \u001b[0;36m__init__\u001b[0;34m(self, left, right, how, on, left_on, right_on, left_index, right_index, sort, suffixes, indicator, validate)\u001b[0m\n\u001b[1;32m    782\u001b[0m                 \u001b[0;34mf\"{_right.columns.nlevels} on the right)\"\u001b[0m\u001b[0;34m\u001b[0m\u001b[0;34m\u001b[0m\u001b[0m\n\u001b[1;32m    783\u001b[0m             )\n\u001b[0;32m--> 784\u001b[0;31m             \u001b[0;32mraise\u001b[0m \u001b[0mMergeError\u001b[0m\u001b[0;34m(\u001b[0m\u001b[0mmsg\u001b[0m\u001b[0;34m)\u001b[0m\u001b[0;34m\u001b[0m\u001b[0;34m\u001b[0m\u001b[0m\n\u001b[0m\u001b[1;32m    785\u001b[0m \u001b[0;34m\u001b[0m\u001b[0m\n\u001b[1;32m    786\u001b[0m         \u001b[0mself\u001b[0m\u001b[0;34m.\u001b[0m\u001b[0mleft_on\u001b[0m\u001b[0;34m,\u001b[0m \u001b[0mself\u001b[0m\u001b[0;34m.\u001b[0m\u001b[0mright_on\u001b[0m \u001b[0;34m=\u001b[0m \u001b[0mself\u001b[0m\u001b[0;34m.\u001b[0m\u001b[0m_validate_left_right_on\u001b[0m\u001b[0;34m(\u001b[0m\u001b[0mleft_on\u001b[0m\u001b[0;34m,\u001b[0m \u001b[0mright_on\u001b[0m\u001b[0;34m)\u001b[0m\u001b[0;34m\u001b[0m\u001b[0;34m\u001b[0m\u001b[0m\n",
            "\u001b[0;31mMergeError\u001b[0m: Not allowed to merge between different levels. (1 levels on the left, 2 on the right)"
          ]
        }
      ]
    },
    {
      "cell_type": "markdown",
      "source": [
        "## Biologically-informed neural networks\n",
        "\n",
        "A biologically-informed deep learning framework requires three data sources:\n",
        "1. a dataset of omics from patients (optionally with phenotypes targets, e.g. disease types, or event times),  \n",
        "i.e. $X$ (and $y$) as for any ordinary ML or statistics task\n",
        "2. a mapping from observed features to biological concepts, e.g. genes\n",
        "3. a pathway database or gene regulatory network\n",
        "\n",
        "In single-omics analyses, the mapping might be natively built into the input dataset, since gene expression data is already labelled according to genes.\n",
        "However, multi-omics analyses or SNPs will require a mapping from the respective entity, e.g. from the mutation to the corresponding gene.\n",
        "\n",
        "Some BINN software packages are bundled with a couple of common pathway databases, e.g. Reactome. You can also supply your own topology, if those provided are not enough, if you want to try advanced fusion strategies or if you want to integrate non-omic-type data (e.g. patient demographics) into your model."
      ],
      "metadata": {
        "id": "xUch7qhCb4re"
      }
    },
    {
      "cell_type": "markdown",
      "source": [
        "## Dependencies\n",
        "\n",
        "All of the packages above are available on GitHub; you can also install the first two packages from PyPI as follows:\n",
        "\n",
        "```bash\n",
        "pip install binn\n",
        "pip install scvega\n",
        "```\n",
        "\n",
        "There are one or two bugs in the visualization module of v0.1.0 of the `binn` package so we recommended installing v0.1.1 or later."
      ],
      "metadata": {
        "id": "NXZNSlBgAkiH"
      }
    },
    {
      "cell_type": "code",
      "source": [
        "%pip install binn==0.1.1 #scvega"
      ],
      "metadata": {
        "collapsed": true,
        "id": "HqgIbr3RIWsp"
      },
      "execution_count": null,
      "outputs": []
    },
    {
      "cell_type": "markdown",
      "source": [
        "# Contact\n",
        "\n",
        "![David Selby](https://dsa.dfki.de/author/david-antony-selby/avatar_hu01a7ec985a1cb8a44b491be532ed5d21_24285_270x270_fill_q75_lanczos_center.jpg)\n",
        "\n",
        "> **David Selby**  \n",
        "Data Science and its Applications  \n",
        "German Research Centre for Artificial Intelligence (DFKI)  \n",
        "david.selby@dfki.de  \n",
        "https://dsa.dfki.de  "
      ],
      "metadata": {
        "id": "lU1586MfNqBC"
      }
    }
  ]
}